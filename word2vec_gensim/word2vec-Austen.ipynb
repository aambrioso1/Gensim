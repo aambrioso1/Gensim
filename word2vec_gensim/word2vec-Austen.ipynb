{
 "cells": [
  {
   "cell_type": "code",
   "execution_count": 1,
   "metadata": {},
   "outputs": [],
   "source": [
    "import re  # For preprocessing\n",
    "import pandas as pd  # For data handling\n",
    "from time import time  # To time our operations\n",
    "from collections import defaultdict  # For word frequency\n",
    "\n",
    "import spacy  # For preprocessing\n",
    "\n",
    "import requests as req # For bring in Gutenberg text\n",
    "import os # For identifying and changong the current working directory: os.get_cwd(), os.ch_dir() \n",
    "\n",
    "import logging  # Setting up the loggings to monitor gensim\n",
    "logging.basicConfig(format=\"%(levelname)s - %(asctime)s: %(message)s\", datefmt= '%H:%M:%S', level=logging.INFO)"
   ]
  },
  {
   "cell_type": "code",
   "execution_count": 2,
   "metadata": {},
   "outputs": [
    {
     "data": {
      "text/plain": [
       "'C:\\\\Users\\\\Alex\\\\machine-learning\\\\word2vec_gensim'"
      ]
     },
     "execution_count": 2,
     "metadata": {},
     "output_type": "execute_result"
    }
   ],
   "source": [
    "os.getcwd()\n",
    "os.chdir(\"C:\\\\Users\\\\Alex\\\\machine-learning\\\\word2vec_gensim\")\n",
    "os.getcwd()"
   ]
  },
  {
   "cell_type": "markdown",
   "metadata": {},
   "source": [
    "We create a list (austen_texts) of all the url containing text verions of Austen most important works."
   ]
  },
  {
   "cell_type": "code",
   "execution_count": 3,
   "metadata": {},
   "outputs": [],
   "source": [
    "# urls of text at GB for Austens works\n",
    "url1 = 'https://www.gutenberg.org/files/21839/21839-0.txt' # Sense and Sensibility\n",
    "url2 = 'https://www.gutenberg.org/cache/epub/42671/pg42671.txt' # Pride and Prejudice\n",
    "url3 = 'https://www.gutenberg.org/files/141/141-0.txt' # Mansfield Park\n",
    "url4 = 'https://www.gutenberg.org/files/158/158-0.txt' # Emma\n",
    "url5 = 'https://www.gutenberg.org/files/121/121-0.txt' # Northanger Abbey\n",
    "url6 = 'https://www.gutenberg.org/cache/epub/946/pg946.txt' # Lady Susan\n",
    "url7 = 'https://www.gutenberg.org/cache/epub/105/pg105.txt'   # Persuasion\n",
    "austen_texts = [url1, url2, url3, url4, url5, url6, url7]"
   ]
  },
  {
   "cell_type": "code",
   "execution_count": 4,
   "metadata": {},
   "outputs": [
    {
     "name": "stdout",
     "output_type": "stream",
     "text": [
      "https://www.gutenberg.org/files/21839/21839-0.txt: df.shape = (6906, 1)\n",
      "https://www.gutenberg.org/cache/epub/42671/pg42671.txt: df.shape = (8082, 1)\n",
      "https://www.gutenberg.org/files/141/141-0.txt: df.shape = (9037, 1)\n",
      "https://www.gutenberg.org/files/158/158-0.txt: df.shape = (11597, 1)\n",
      "https://www.gutenberg.org/files/121/121-0.txt: df.shape = (4664, 1)\n",
      "https://www.gutenberg.org/cache/epub/946/pg946.txt: df.shape = (1444, 1)\n",
      "https://www.gutenberg.org/cache/epub/105/pg105.txt: df.shape = (4462, 1)\n",
      "*****(46192, 1)*****\n",
      "                                             sentences\n",
      "0    The Project Gutenberg eBook of Sense and Sensi...\n",
      "1    You may copy it, give it away or re-use it und...\n",
      "2    If you are not located in the United States, y...\n",
      "3    Title: Sense and Sensibility\\r\\n\\r\\nAuthor: Ja...\n",
      "4    The illustration\\r\\non page 290 is missing fro...\n",
      "..                                                 ...\n",
      "195  Dashwood as remaining there till she\\r\\ncould ...\n",
      "196  A continuance in a place where everything remi...\n",
      "197  In seasons of cheerfulness,\\r\\nno temper could...\n",
      "198  But in sorrow she must be equally carried away...\n",
      "199                                               Mrs.\n",
      "\n",
      "[200 rows x 1 columns]\n"
     ]
    }
   ],
   "source": [
    "def txt_to_df(url):\n",
    "\t\"\"\"retrieves the text at url and stores the sentences in a dataframe\n",
    "\t\n",
    "\tDependencies:\n",
    "\tpandas, requests\n",
    "\n",
    "\tArg:\n",
    "\tA url in string form linked to text (code test on urls from Project Gutenberg)\n",
    "\n",
    "\tReturns:\n",
    "\tA panda dataframe containing all the sentences in the text.\n",
    "\n",
    "\t\"\"\"\n",
    "\t# Get the information form the URL and turn it into text.\n",
    "\tres = req.get(url) # \n",
    "\ttext = str(res.text[1:]) # Skip first character of text file\n",
    "\n",
    "\t# Create a regular expression to find all the sentences in a string of text.\n",
    "\tpat = re.compile(r'([A-Z][^\\.!?;]*[\\.!?;])', re.M)\n",
    "\tsentences = pat.findall(text)\n",
    "\n",
    "\tdf = pd.concat([pd.DataFrame([item], columns=['sentences']) for item in sentences], ignore_index=True)\n",
    "\treturn df\n",
    "\n",
    "df_list = []\n",
    "for item in austen_texts:\n",
    "    df = txt_to_df(item)\n",
    "    print(f'{item}: df.shape = {df.shape}')\n",
    "    df_list.append(df)\n",
    "    \n",
    "df = pd.concat(df_list)\n",
    "print(f'*****{df.shape}*****')\n",
    "print(df[:200])"
   ]
  },
  {
   "cell_type": "code",
   "execution_count": 6,
   "metadata": {},
   "outputs": [
    {
     "data": {
      "text/html": [
       "<div>\n",
       "<style scoped>\n",
       "    .dataframe tbody tr th:only-of-type {\n",
       "        vertical-align: middle;\n",
       "    }\n",
       "\n",
       "    .dataframe tbody tr th {\n",
       "        vertical-align: top;\n",
       "    }\n",
       "\n",
       "    .dataframe thead th {\n",
       "        text-align: right;\n",
       "    }\n",
       "</style>\n",
       "<table border=\"1\" class=\"dataframe\">\n",
       "  <thead>\n",
       "    <tr style=\"text-align: right;\">\n",
       "      <th></th>\n",
       "      <th>sentences</th>\n",
       "    </tr>\n",
       "  </thead>\n",
       "  <tbody>\n",
       "    <tr>\n",
       "      <th>0</th>\n",
       "      <td>The Project Gutenberg eBook of Sense and Sensi...</td>\n",
       "    </tr>\n",
       "    <tr>\n",
       "      <th>1</th>\n",
       "      <td>You may copy it, give it away or re-use it und...</td>\n",
       "    </tr>\n",
       "    <tr>\n",
       "      <th>2</th>\n",
       "      <td>If you are not located in the United States, y...</td>\n",
       "    </tr>\n",
       "    <tr>\n",
       "      <th>3</th>\n",
       "      <td>Title: Sense and Sensibility\\r\\n\\r\\nAuthor: Ja...</td>\n",
       "    </tr>\n",
       "    <tr>\n",
       "      <th>4</th>\n",
       "      <td>The illustration\\r\\non page 290 is missing fro...</td>\n",
       "    </tr>\n",
       "    <tr>\n",
       "      <th>5</th>\n",
       "      <td>The Introduction ends abruptly.</td>\n",
       "    </tr>\n",
       "    <tr>\n",
       "      <th>6</th>\n",
       "      <td>Seems incomplete.</td>\n",
       "    </tr>\n",
       "    <tr>\n",
       "      <th>7</th>\n",
       "      <td>Illustration: _Mr.</td>\n",
       "    </tr>\n",
       "    <tr>\n",
       "      <th>8</th>\n",
       "      <td>Dashwood introduced him.</td>\n",
       "    </tr>\n",
       "    <tr>\n",
       "      <th>9</th>\n",
       "      <td>P.</td>\n",
       "    </tr>\n",
       "    <tr>\n",
       "      <th>10</th>\n",
       "      <td>SENSE &amp; SENSIBILITY\\r\\n\\r\\n\\r\\n\\r\\n           ...</td>\n",
       "    </tr>\n",
       "    <tr>\n",
       "      <th>11</th>\n",
       "      <td>LIMITED\\r\\n\\r\\n                   NEW YORK: TH...</td>\n",
       "    </tr>\n",
       "    <tr>\n",
       "      <th>12</th>\n",
       "      <td>In the _Cecilia_\\r\\nof Madame D'Arblay--the fo...</td>\n",
       "    </tr>\n",
       "    <tr>\n",
       "      <th>13</th>\n",
       "      <td>The whole of this unfortunate business'--says ...</td>\n",
       "    </tr>\n",
       "    <tr>\n",
       "      <th>14</th>\n",
       "      <td>Lyster, talking in capitals, towards the end o...</td>\n",
       "    </tr>\n",
       "    <tr>\n",
       "      <th>15</th>\n",
       "      <td>But here comes in the little problem to which ...</td>\n",
       "    </tr>\n",
       "    <tr>\n",
       "      <th>16</th>\n",
       "      <td>Pride and Prejudice_ it is true, was written a...</td>\n",
       "    </tr>\n",
       "    <tr>\n",
       "      <th>17</th>\n",
       "      <td>Then, in 1797, the author fell to work upon an...</td>\n",
       "    </tr>\n",
       "    <tr>\n",
       "      <th>18</th>\n",
       "      <td>This, as we know, was her first\\r\\npublished b...</td>\n",
       "    </tr>\n",
       "    <tr>\n",
       "      <th>19</th>\n",
       "      <td>Pride and Prejudice_ and the passage in _Cecil...</td>\n",
       "    </tr>\n",
       "    <tr>\n",
       "      <th>20</th>\n",
       "      <td>If Miss Austen re-christened _Elinor and\\r\\nMa...</td>\n",
       "    </tr>\n",
       "    <tr>\n",
       "      <th>21</th>\n",
       "      <td>Upon the whole, therefore, it is most likely\\r...</td>\n",
       "    </tr>\n",
       "    <tr>\n",
       "      <th>22</th>\n",
       "      <td>Sense and Sensibility_, as well as in the nove...</td>\n",
       "    </tr>\n",
       "    <tr>\n",
       "      <th>23</th>\n",
       "      <td>Indeed, in _Sense and Sensibility_ the sense o...</td>\n",
       "    </tr>\n",
       "    <tr>\n",
       "      <th>24</th>\n",
       "      <td>Emma_ and _Persuasion, Northanger\\r\\nAbbey_ an...</td>\n",
       "    </tr>\n",
       "    <tr>\n",
       "      <th>25</th>\n",
       "      <td>Elinor and Marianne_ was originally written ab...</td>\n",
       "    </tr>\n",
       "    <tr>\n",
       "      <th>26</th>\n",
       "      <td>After the\\r\\ncompletion--or partial completion...</td>\n",
       "    </tr>\n",
       "    <tr>\n",
       "      <th>27</th>\n",
       "      <td>Northanger Abbey_.</td>\n",
       "    </tr>\n",
       "    <tr>\n",
       "      <th>28</th>\n",
       "      <td>It would be interesting to know to\\r\\nwhat ext...</td>\n",
       "    </tr>\n",
       "    <tr>\n",
       "      <th>29</th>\n",
       "      <td>Especially would it be interesting if we\\r\\nco...</td>\n",
       "    </tr>\n",
       "    <tr>\n",
       "      <th>30</th>\n",
       "      <td>Miss Dashwoods and Willoughby in\\r\\nchapter x.</td>\n",
       "    </tr>\n",
       "    <tr>\n",
       "      <th>31</th>\n",
       "      <td>Bath and Southampton, or whether they were alr...</td>\n",
       "    </tr>\n",
       "    <tr>\n",
       "      <th>32</th>\n",
       "      <td>But upon this matter the records are\\r\\nmute.</td>\n",
       "    </tr>\n",
       "    <tr>\n",
       "      <th>33</th>\n",
       "      <td>A careful examination of the correspondence pu...</td>\n",
       "    </tr>\n",
       "    <tr>\n",
       "      <th>34</th>\n",
       "      <td>In\\r\\nApril 1811 she speaks of having correcte...</td>\n",
       "    </tr>\n",
       "    <tr>\n",
       "      <th>35</th>\n",
       "      <td>September, an extract from the diary of anothe...</td>\n",
       "    </tr>\n",
       "    <tr>\n",
       "      <th>36</th>\n",
       "      <td>This extract is a brief reference to a letter ...</td>\n",
       "    </tr>\n",
       "    <tr>\n",
       "      <th>37</th>\n",
       "      <td>Beyond these\\r\\nminute items of information, a...</td>\n",
       "    </tr>\n",
       "    <tr>\n",
       "      <th>38</th>\n",
       "      <td>In the absence of particulars some of her crit...</td>\n",
       "    </tr>\n",
       "    <tr>\n",
       "      <th>39</th>\n",
       "      <td>But this is to premise that she\\r\\n_did_ regar...</td>\n",
       "    </tr>\n",
       "    <tr>\n",
       "      <th>40</th>\n",
       "      <td>A simpler solution is probably that, of the th...</td>\n",
       "    </tr>\n",
       "    <tr>\n",
       "      <th>41</th>\n",
       "      <td>In these circumstances it is\\r\\nintelligible t...</td>\n",
       "    </tr>\n",
       "    <tr>\n",
       "      <th>42</th>\n",
       "      <td>T.</td>\n",
       "    </tr>\n",
       "    <tr>\n",
       "      <th>43</th>\n",
       "      <td>Egerton of the 'Military Library,' Whitehall,\\...</td>\n",
       "    </tr>\n",
       "    <tr>\n",
       "      <th>44</th>\n",
       "      <td>By the time _Sense and Sensibility_ left the p...</td>\n",
       "    </tr>\n",
       "    <tr>\n",
       "      <th>45</th>\n",
       "      <td>For those accustomed to the\\r\\nswarming review...</td>\n",
       "    </tr>\n",
       "    <tr>\n",
       "      <th>46</th>\n",
       "      <td>Gargery, in _Great\\r\\nExpectations_, would hav...</td>\n",
       "    </tr>\n",
       "    <tr>\n",
       "      <th>47</th>\n",
       "      <td>Surely Mr.</td>\n",
       "    </tr>\n",
       "    <tr>\n",
       "      <th>48</th>\n",
       "      <td>Egerton, who had visited Miss Austen at Sloane...</td>\n",
       "    </tr>\n",
       "    <tr>\n",
       "      <th>49</th>\n",
       "      <td>But if he did, it is no longer\\r\\ndiscoverable.</td>\n",
       "    </tr>\n",
       "  </tbody>\n",
       "</table>\n",
       "</div>"
      ],
      "text/plain": [
       "                                            sentences\n",
       "0   The Project Gutenberg eBook of Sense and Sensi...\n",
       "1   You may copy it, give it away or re-use it und...\n",
       "2   If you are not located in the United States, y...\n",
       "3   Title: Sense and Sensibility\\r\\n\\r\\nAuthor: Ja...\n",
       "4   The illustration\\r\\non page 290 is missing fro...\n",
       "5                     The Introduction ends abruptly.\n",
       "6                                   Seems incomplete.\n",
       "7                                  Illustration: _Mr.\n",
       "8                            Dashwood introduced him.\n",
       "9                                                  P.\n",
       "10  SENSE & SENSIBILITY\\r\\n\\r\\n\\r\\n\\r\\n           ...\n",
       "11  LIMITED\\r\\n\\r\\n                   NEW YORK: TH...\n",
       "12  In the _Cecilia_\\r\\nof Madame D'Arblay--the fo...\n",
       "13  The whole of this unfortunate business'--says ...\n",
       "14  Lyster, talking in capitals, towards the end o...\n",
       "15  But here comes in the little problem to which ...\n",
       "16  Pride and Prejudice_ it is true, was written a...\n",
       "17  Then, in 1797, the author fell to work upon an...\n",
       "18  This, as we know, was her first\\r\\npublished b...\n",
       "19  Pride and Prejudice_ and the passage in _Cecil...\n",
       "20  If Miss Austen re-christened _Elinor and\\r\\nMa...\n",
       "21  Upon the whole, therefore, it is most likely\\r...\n",
       "22  Sense and Sensibility_, as well as in the nove...\n",
       "23  Indeed, in _Sense and Sensibility_ the sense o...\n",
       "24  Emma_ and _Persuasion, Northanger\\r\\nAbbey_ an...\n",
       "25  Elinor and Marianne_ was originally written ab...\n",
       "26  After the\\r\\ncompletion--or partial completion...\n",
       "27                                 Northanger Abbey_.\n",
       "28  It would be interesting to know to\\r\\nwhat ext...\n",
       "29  Especially would it be interesting if we\\r\\nco...\n",
       "30     Miss Dashwoods and Willoughby in\\r\\nchapter x.\n",
       "31  Bath and Southampton, or whether they were alr...\n",
       "32      But upon this matter the records are\\r\\nmute.\n",
       "33  A careful examination of the correspondence pu...\n",
       "34  In\\r\\nApril 1811 she speaks of having correcte...\n",
       "35  September, an extract from the diary of anothe...\n",
       "36  This extract is a brief reference to a letter ...\n",
       "37  Beyond these\\r\\nminute items of information, a...\n",
       "38  In the absence of particulars some of her crit...\n",
       "39  But this is to premise that she\\r\\n_did_ regar...\n",
       "40  A simpler solution is probably that, of the th...\n",
       "41  In these circumstances it is\\r\\nintelligible t...\n",
       "42                                                 T.\n",
       "43  Egerton of the 'Military Library,' Whitehall,\\...\n",
       "44  By the time _Sense and Sensibility_ left the p...\n",
       "45  For those accustomed to the\\r\\nswarming review...\n",
       "46  Gargery, in _Great\\r\\nExpectations_, would hav...\n",
       "47                                         Surely Mr.\n",
       "48  Egerton, who had visited Miss Austen at Sloane...\n",
       "49    But if he did, it is no longer\\r\\ndiscoverable."
      ]
     },
     "execution_count": 6,
     "metadata": {},
     "output_type": "execute_result"
    }
   ],
   "source": [
    "df[:50]"
   ]
  },
  {
   "cell_type": "code",
   "execution_count": 7,
   "metadata": {},
   "outputs": [
    {
     "data": {
      "text/plain": [
       "sentences    0\n",
       "dtype: int64"
      ]
     },
     "execution_count": 7,
     "metadata": {},
     "output_type": "execute_result"
    }
   ],
   "source": [
    "df.isnull().sum()"
   ]
  },
  {
   "cell_type": "code",
   "execution_count": 8,
   "metadata": {},
   "outputs": [
    {
     "name": "stdout",
     "output_type": "stream",
     "text": [
      "df[:30] =                                             sentences\n",
      "0   The Project Gutenberg eBook of Sense and Sensi...\n",
      "1   You may copy it, give it away or re-use it und...\n",
      "2   If you are not located in the United States, y...\n",
      "3   Title: Sense and Sensibility\\r\\n\\r\\nAuthor: Ja...\n",
      "4   The illustration\\r\\non page 290 is missing fro...\n",
      "5                     The Introduction ends abruptly.\n",
      "6                                   Seems incomplete.\n",
      "7                                  Illustration: _Mr.\n",
      "8                            Dashwood introduced him.\n",
      "9                                                  P.\n",
      "10  SENSE & SENSIBILITY\\r\\n\\r\\n\\r\\n\\r\\n           ...\n",
      "11  LIMITED\\r\\n\\r\\n                   NEW YORK: TH...\n",
      "12  In the _Cecilia_\\r\\nof Madame D'Arblay--the fo...\n",
      "13  The whole of this unfortunate business'--says ...\n",
      "14  Lyster, talking in capitals, towards the end o...\n",
      "15  But here comes in the little problem to which ...\n",
      "16  Pride and Prejudice_ it is true, was written a...\n",
      "17  Then, in 1797, the author fell to work upon an...\n",
      "18  This, as we know, was her first\\r\\npublished b...\n",
      "19  Pride and Prejudice_ and the passage in _Cecil...\n",
      "20  If Miss Austen re-christened _Elinor and\\r\\nMa...\n",
      "21  Upon the whole, therefore, it is most likely\\r...\n",
      "22  Sense and Sensibility_, as well as in the nove...\n",
      "23  Indeed, in _Sense and Sensibility_ the sense o...\n",
      "24  Emma_ and _Persuasion, Northanger\\r\\nAbbey_ an...\n",
      "25  Elinor and Marianne_ was originally written ab...\n",
      "26  After the\\r\\ncompletion--or partial completion...\n",
      "27                                 Northanger Abbey_.\n",
      "28  It would be interesting to know to\\r\\nwhat ext...\n",
      "29  Especially would it be interesting if we\\r\\nco...\n",
      "df[:30] =                                             sentences\n",
      "0   The Project Gutenberg eBook of Sense and Sensi...\n",
      "1   You may copy it, give it away or re-use it und...\n",
      "2   If you are not located in the United States, y...\n",
      "3   Title: Sense and Sensibility\\r\\n\\r\\nAuthor: Ja...\n",
      "4   The illustration\\r\\non page 290 is missing fro...\n",
      "5                     The Introduction ends abruptly.\n",
      "6                                   Seems incomplete.\n",
      "7                                  Illustration: _Mr.\n",
      "8                            Dashwood introduced him.\n",
      "9                                                  P.\n",
      "10  SENSE & SENSIBILITY\\r\\n\\r\\n\\r\\n\\r\\n           ...\n",
      "11  LIMITED\\r\\n\\r\\n                   NEW YORK: TH...\n",
      "12  In the _Cecilia_\\r\\nof Madame D'Arblay--the fo...\n",
      "13  The whole of this unfortunate business'--says ...\n",
      "14  Lyster, talking in capitals, towards the end o...\n",
      "15  But here comes in the little problem to which ...\n",
      "16  Pride and Prejudice_ it is true, was written a...\n",
      "17  Then, in 1797, the author fell to work upon an...\n",
      "18  This, as we know, was her first\\r\\npublished b...\n",
      "19  Pride and Prejudice_ and the passage in _Cecil...\n",
      "20  If Miss Austen re-christened _Elinor and\\r\\nMa...\n",
      "21  Upon the whole, therefore, it is most likely\\r...\n",
      "22  Sense and Sensibility_, as well as in the nove...\n",
      "23  Indeed, in _Sense and Sensibility_ the sense o...\n",
      "24  Emma_ and _Persuasion, Northanger\\r\\nAbbey_ an...\n",
      "25  Elinor and Marianne_ was originally written ab...\n",
      "26  After the\\r\\ncompletion--or partial completion...\n",
      "27                                 Northanger Abbey_.\n",
      "28  It would be interesting to know to\\r\\nwhat ext...\n",
      "29  Especially would it be interesting if we\\r\\nco...\n"
     ]
    }
   ],
   "source": [
    "print(f'df[:30] = {df[:30]}')\n",
    "df = df.dropna().reset_index(drop=True)\n",
    "df.isnull().sum()\n",
    "print(f'df[:30] = {df[:30]}')"
   ]
  },
  {
   "cell_type": "code",
   "execution_count": 9,
   "metadata": {},
   "outputs": [],
   "source": [
    "nlp = spacy.load('en', disable=['ner', 'parser']) # disabling Named Entity Recognition for speed\n",
    "\n",
    "# Fixed problem with 'en'.   Anaconda Powershell has an admin option upon right click\n",
    "# Helpful SO answer: \n",
    "# https://stackoverflow.com/questions/54334304\n",
    "# /spacy-cant-find-model-en-core-web-sm-on-windows-10-and-python-3-5-3-anacon\n",
    "# python -m spacy download en \n",
    "\n",
    "def cleaning(doc):\n",
    "    # Lemmatizes and removes stopwords\n",
    "    # doc needs to be a spacy Doc object\n",
    "    txt = [token.lemma_ for token in doc if not token.is_stop]\n",
    "    # Word2Vec uses context words to learn the vector representation of a target word,\n",
    "    # if a sentence is only one or two words long,\n",
    "    # the benefit for the training is very small\n",
    "    if len(txt) > 2:\n",
    "        return ' '.join(txt)"
   ]
  },
  {
   "cell_type": "code",
   "execution_count": 12,
   "metadata": {},
   "outputs": [],
   "source": [
    "brief_cleaning = (re.sub(\"[^A-Za-z']+\", ' ', str(row)).lower() for row in df['sentences'])"
   ]
  },
  {
   "cell_type": "code",
   "execution_count": 13,
   "metadata": {},
   "outputs": [
    {
     "name": "stdout",
     "output_type": "stream",
     "text": [
      "Time to clean up everything: 0.51 mins\n"
     ]
    }
   ],
   "source": [
    "t = time()\n",
    "\n",
    "txt = [cleaning(doc) for doc in nlp.pipe(brief_cleaning, batch_size=5000, n_threads=-1)]\n",
    "\n",
    "print('Time to clean up everything: {} mins'.format(round((time() - t) / 60, 2)))"
   ]
  },
  {
   "cell_type": "code",
   "execution_count": 14,
   "metadata": {},
   "outputs": [
    {
     "name": "stdout",
     "output_type": "stream",
     "text": [
      "                                                clean\n",
      "0   project gutenberg ebook sense sensibility jane...\n",
      "1   copy away use term project gutenberg license i...\n",
      "2   locate united state check law country locate e...\n",
      "3   title sense sensibility author jane austen com...\n",
      "4                         illustration page miss book\n",
      "5                           introduction end abruptly\n",
      "6                                                None\n",
      "7                                                None\n",
      "8                                                None\n",
      "9                                                None\n",
      "10  sense sensibility jane austen introduction aus...\n",
      "11  limited new york macmillan company edition hug...\n",
      "12  cecilia madame d'arblay forerunner model miss ...\n",
      "13     unfortunate business ' say certain didactic dr\n",
      "14  lyster talk capital end volume cecilia ' resul...\n",
      "15                          come little problem refer\n",
      "16  pride prejudice true write finish sense sensib...\n",
      "17  author fall work old essay letter la richardso...\n",
      "18                                  know publish book\n",
      "19  pride prejudice passage cecilia obvious connec...\n",
      "20  miss austen christened elinor marianne change ...\n",
      "21    likely passage madame d'arblay mere coincidence\n",
      "22  sense sensibility novel succeed publication mi...\n",
      "23  sense sensibility sense elinor sensibility sen...\n",
      "24  emma persuasion northanger abbey mansfield par...\n",
      "25                   elinor marianne originally write\n",
      "26  completion partial completion revise impressio...\n",
      "27                                               None\n",
      "28  interesting know extent remodell sense sensibi...\n",
      "29  especially interesting ascertain finished pass...\n"
     ]
    },
    {
     "data": {
      "text/html": [
       "<div>\n",
       "<style scoped>\n",
       "    .dataframe tbody tr th:only-of-type {\n",
       "        vertical-align: middle;\n",
       "    }\n",
       "\n",
       "    .dataframe tbody tr th {\n",
       "        vertical-align: top;\n",
       "    }\n",
       "\n",
       "    .dataframe thead th {\n",
       "        text-align: right;\n",
       "    }\n",
       "</style>\n",
       "<table border=\"1\" class=\"dataframe\">\n",
       "  <thead>\n",
       "    <tr style=\"text-align: right;\">\n",
       "      <th></th>\n",
       "      <th>clean</th>\n",
       "    </tr>\n",
       "  </thead>\n",
       "  <tbody>\n",
       "    <tr>\n",
       "      <th>0</th>\n",
       "      <td>project gutenberg ebook sense sensibility jane...</td>\n",
       "    </tr>\n",
       "    <tr>\n",
       "      <th>1</th>\n",
       "      <td>copy away use term project gutenberg license i...</td>\n",
       "    </tr>\n",
       "    <tr>\n",
       "      <th>2</th>\n",
       "      <td>locate united state check law country locate e...</td>\n",
       "    </tr>\n",
       "    <tr>\n",
       "      <th>3</th>\n",
       "      <td>title sense sensibility author jane austen com...</td>\n",
       "    </tr>\n",
       "    <tr>\n",
       "      <th>4</th>\n",
       "      <td>illustration page miss book</td>\n",
       "    </tr>\n",
       "    <tr>\n",
       "      <th>5</th>\n",
       "      <td>introduction end abruptly</td>\n",
       "    </tr>\n",
       "    <tr>\n",
       "      <th>10</th>\n",
       "      <td>sense sensibility jane austen introduction aus...</td>\n",
       "    </tr>\n",
       "    <tr>\n",
       "      <th>11</th>\n",
       "      <td>limited new york macmillan company edition hug...</td>\n",
       "    </tr>\n",
       "    <tr>\n",
       "      <th>12</th>\n",
       "      <td>cecilia madame d'arblay forerunner model miss ...</td>\n",
       "    </tr>\n",
       "    <tr>\n",
       "      <th>13</th>\n",
       "      <td>unfortunate business ' say certain didactic dr</td>\n",
       "    </tr>\n",
       "    <tr>\n",
       "      <th>14</th>\n",
       "      <td>lyster talk capital end volume cecilia ' resul...</td>\n",
       "    </tr>\n",
       "    <tr>\n",
       "      <th>15</th>\n",
       "      <td>come little problem refer</td>\n",
       "    </tr>\n",
       "    <tr>\n",
       "      <th>16</th>\n",
       "      <td>pride prejudice true write finish sense sensib...</td>\n",
       "    </tr>\n",
       "    <tr>\n",
       "      <th>17</th>\n",
       "      <td>author fall work old essay letter la richardso...</td>\n",
       "    </tr>\n",
       "    <tr>\n",
       "      <th>18</th>\n",
       "      <td>know publish book</td>\n",
       "    </tr>\n",
       "    <tr>\n",
       "      <th>19</th>\n",
       "      <td>pride prejudice passage cecilia obvious connec...</td>\n",
       "    </tr>\n",
       "    <tr>\n",
       "      <th>20</th>\n",
       "      <td>miss austen christened elinor marianne change ...</td>\n",
       "    </tr>\n",
       "    <tr>\n",
       "      <th>21</th>\n",
       "      <td>likely passage madame d'arblay mere coincidence</td>\n",
       "    </tr>\n",
       "    <tr>\n",
       "      <th>22</th>\n",
       "      <td>sense sensibility novel succeed publication mi...</td>\n",
       "    </tr>\n",
       "    <tr>\n",
       "      <th>23</th>\n",
       "      <td>sense sensibility sense elinor sensibility sen...</td>\n",
       "    </tr>\n",
       "    <tr>\n",
       "      <th>24</th>\n",
       "      <td>emma persuasion northanger abbey mansfield par...</td>\n",
       "    </tr>\n",
       "    <tr>\n",
       "      <th>25</th>\n",
       "      <td>elinor marianne originally write</td>\n",
       "    </tr>\n",
       "    <tr>\n",
       "      <th>26</th>\n",
       "      <td>completion partial completion revise impressio...</td>\n",
       "    </tr>\n",
       "    <tr>\n",
       "      <th>28</th>\n",
       "      <td>interesting know extent remodell sense sensibi...</td>\n",
       "    </tr>\n",
       "    <tr>\n",
       "      <th>29</th>\n",
       "      <td>especially interesting ascertain finished pass...</td>\n",
       "    </tr>\n",
       "    <tr>\n",
       "      <th>30</th>\n",
       "      <td>miss dashwood willoughby chapter x</td>\n",
       "    </tr>\n",
       "    <tr>\n",
       "      <th>31</th>\n",
       "      <td>bath southampton second version</td>\n",
       "    </tr>\n",
       "    <tr>\n",
       "      <th>32</th>\n",
       "      <td>matter record mute</td>\n",
       "    </tr>\n",
       "    <tr>\n",
       "      <th>33</th>\n",
       "      <td>careful examination correspondence publish lor...</td>\n",
       "    </tr>\n",
       "    <tr>\n",
       "      <th>34</th>\n",
       "      <td>april speak have correct sheet 's s ' scarcely...</td>\n",
       "    </tr>\n",
       "  </tbody>\n",
       "</table>\n",
       "</div>"
      ],
      "text/plain": [
       "                                                clean\n",
       "0   project gutenberg ebook sense sensibility jane...\n",
       "1   copy away use term project gutenberg license i...\n",
       "2   locate united state check law country locate e...\n",
       "3   title sense sensibility author jane austen com...\n",
       "4                         illustration page miss book\n",
       "5                           introduction end abruptly\n",
       "10  sense sensibility jane austen introduction aus...\n",
       "11  limited new york macmillan company edition hug...\n",
       "12  cecilia madame d'arblay forerunner model miss ...\n",
       "13     unfortunate business ' say certain didactic dr\n",
       "14  lyster talk capital end volume cecilia ' resul...\n",
       "15                          come little problem refer\n",
       "16  pride prejudice true write finish sense sensib...\n",
       "17  author fall work old essay letter la richardso...\n",
       "18                                  know publish book\n",
       "19  pride prejudice passage cecilia obvious connec...\n",
       "20  miss austen christened elinor marianne change ...\n",
       "21    likely passage madame d'arblay mere coincidence\n",
       "22  sense sensibility novel succeed publication mi...\n",
       "23  sense sensibility sense elinor sensibility sen...\n",
       "24  emma persuasion northanger abbey mansfield par...\n",
       "25                   elinor marianne originally write\n",
       "26  completion partial completion revise impressio...\n",
       "28  interesting know extent remodell sense sensibi...\n",
       "29  especially interesting ascertain finished pass...\n",
       "30                 miss dashwood willoughby chapter x\n",
       "31                    bath southampton second version\n",
       "32                                 matter record mute\n",
       "33  careful examination correspondence publish lor...\n",
       "34  april speak have correct sheet 's s ' scarcely..."
      ]
     },
     "execution_count": 14,
     "metadata": {},
     "output_type": "execute_result"
    }
   ],
   "source": [
    "df_clean = pd.DataFrame({'clean': txt})\n",
    "print(df_clean[:30])\n",
    "df_clean = df_clean.dropna().drop_duplicates()\n",
    "df_clean.shape\n",
    "df_clean[:30]"
   ]
  },
  {
   "cell_type": "code",
   "execution_count": 15,
   "metadata": {},
   "outputs": [],
   "source": [
    "#  Pick up at Bigrams: https://www.kaggle.com/pierremegret/gensim-word2vec-tutorial/notebook?scriptVersionId=6660075&cellId=23\n",
    "\n",
    "from gensim.models.phrases import Phrases, Phraser"
   ]
  },
  {
   "cell_type": "code",
   "execution_count": 16,
   "metadata": {},
   "outputs": [],
   "source": [
    "sent = [row.split() for row in df_clean['clean']]"
   ]
  },
  {
   "cell_type": "code",
   "execution_count": 18,
   "metadata": {},
   "outputs": [
    {
     "name": "stderr",
     "output_type": "stream",
     "text": [
      "INFO - 15:31:57: collecting all words and their counts\n",
      "INFO - 15:31:57: PROGRESS: at sentence #0, processed 0 words and 0 word types\n",
      "INFO - 15:31:57: PROGRESS: at sentence #10000, processed 73081 words and 56677 word types\n",
      "INFO - 15:31:57: PROGRESS: at sentence #20000, processed 144127 words and 102442 word types\n",
      "INFO - 15:31:57: PROGRESS: at sentence #30000, processed 214878 words and 144530 word types\n",
      "INFO - 15:31:57: collected 149903 token types (unigram + bigrams) from a corpus of 224957 words and 31395 sentences\n",
      "INFO - 15:31:57: merged Phrases<149903 vocab, min_count=30, threshold=10.0, max_vocab_size=40000000>\n",
      "INFO - 15:31:57: Phrases lifecycle event {'msg': 'built Phrases<149903 vocab, min_count=30, threshold=10.0, max_vocab_size=40000000> in 0.33s', 'datetime': '2021-06-21T15:31:57.844817', 'gensim': '4.0.1', 'python': '3.7.4 (default, Aug  9 2019, 18:34:13) [MSC v.1915 64 bit (AMD64)]', 'platform': 'Windows-10-10.0.19041-SP0', 'event': 'created'}\n"
     ]
    }
   ],
   "source": [
    "phrases = Phrases(sent, min_count=30, progress_per=10000)"
   ]
  },
  {
   "cell_type": "code",
   "execution_count": 19,
   "metadata": {},
   "outputs": [
    {
     "name": "stderr",
     "output_type": "stream",
     "text": [
      "INFO - 15:32:04: exporting phrases from Phrases<149903 vocab, min_count=30, threshold=10.0, max_vocab_size=40000000>\n",
      "INFO - 15:32:04: FrozenPhrases lifecycle event {'msg': 'exported FrozenPhrases<57 phrases, min_count=30, threshold=10.0> from Phrases<149903 vocab, min_count=30, threshold=10.0, max_vocab_size=40000000> in 0.91s', 'datetime': '2021-06-21T15:32:04.972998', 'gensim': '4.0.1', 'python': '3.7.4 (default, Aug  9 2019, 18:34:13) [MSC v.1915 64 bit (AMD64)]', 'platform': 'Windows-10-10.0.19041-SP0', 'event': 'created'}\n"
     ]
    }
   ],
   "source": [
    "bigram = Phraser(phrases)"
   ]
  },
  {
   "cell_type": "code",
   "execution_count": 20,
   "metadata": {},
   "outputs": [],
   "source": [
    "sentences = bigram[sent]"
   ]
  },
  {
   "cell_type": "code",
   "execution_count": 21,
   "metadata": {},
   "outputs": [
    {
     "data": {
      "text/plain": [
       "9440"
      ]
     },
     "execution_count": 21,
     "metadata": {},
     "output_type": "execute_result"
    }
   ],
   "source": [
    "word_freq = defaultdict(int)\n",
    "for sent in sentences:\n",
    "    for i in sent:\n",
    "        word_freq[i] += 1\n",
    "len(word_freq)"
   ]
  },
  {
   "cell_type": "code",
   "execution_count": 22,
   "metadata": {},
   "outputs": [
    {
     "data": {
      "text/plain": [
       "[\"'s\", 'think', 'say', 'know', 'good', 'mr', 'come', 'time', 's', 'little']"
      ]
     },
     "execution_count": 22,
     "metadata": {},
     "output_type": "execute_result"
    }
   ],
   "source": [
    "sorted(word_freq, key=word_freq.get, reverse=True)[:10]"
   ]
  },
  {
   "cell_type": "code",
   "execution_count": 23,
   "metadata": {},
   "outputs": [],
   "source": [
    "import multiprocessing\n",
    "\n",
    "from gensim.models import Word2Vec"
   ]
  },
  {
   "cell_type": "code",
   "execution_count": 24,
   "metadata": {},
   "outputs": [
    {
     "name": "stdout",
     "output_type": "stream",
     "text": [
      "8\n"
     ]
    }
   ],
   "source": [
    "cores = multiprocessing.cpu_count() # Count the number of cores in a computer\n",
    "print(cores)"
   ]
  },
  {
   "cell_type": "code",
   "execution_count": 25,
   "metadata": {},
   "outputs": [
    {
     "name": "stderr",
     "output_type": "stream",
     "text": [
      "INFO - 15:32:57: Word2Vec lifecycle event {'params': 'Word2Vec(vocab=0, vector_size=300, alpha=0.03)', 'datetime': '2021-06-21T15:32:57.252734', 'gensim': '4.0.1', 'python': '3.7.4 (default, Aug  9 2019, 18:34:13) [MSC v.1915 64 bit (AMD64)]', 'platform': 'Windows-10-10.0.19041-SP0', 'event': 'created'}\n"
     ]
    }
   ],
   "source": [
    "w2v_model = Word2Vec(min_count=20,\n",
    "                     window=2,\n",
    "                     vector_size=300, # key word has change from size to vector_size\n",
    "                     sample=6e-5, \n",
    "                     alpha=0.03, \n",
    "                     min_alpha=0.0007, \n",
    "                     negative=20,\n",
    "                     workers=cores-1)"
   ]
  },
  {
   "cell_type": "code",
   "execution_count": 26,
   "metadata": {},
   "outputs": [
    {
     "name": "stderr",
     "output_type": "stream",
     "text": [
      "INFO - 15:33:14: collecting all words and their counts\n",
      "INFO - 15:33:14: PROGRESS: at sentence #0, processed 0 words, keeping 0 word types\n",
      "INFO - 15:33:14: PROGRESS: at sentence #10000, processed 71780 words, keeping 5807 word types\n",
      "INFO - 15:33:14: PROGRESS: at sentence #20000, processed 141026 words, keeping 7839 word types\n",
      "INFO - 15:33:14: PROGRESS: at sentence #30000, processed 210036 words, keeping 9287 word types\n",
      "INFO - 15:33:14: collected 9440 word types from a corpus of 219635 raw words and 31395 sentences\n",
      "INFO - 15:33:14: Creating a fresh vocabulary\n",
      "INFO - 15:33:14: Word2Vec lifecycle event {'msg': 'effective_min_count=20 retains 1757 unique words (18.61228813559322%% of original 9440, drops 7683)', 'datetime': '2021-06-21T15:33:14.458676', 'gensim': '4.0.1', 'python': '3.7.4 (default, Aug  9 2019, 18:34:13) [MSC v.1915 64 bit (AMD64)]', 'platform': 'Windows-10-10.0.19041-SP0', 'event': 'prepare_vocab'}\n",
      "INFO - 15:33:14: Word2Vec lifecycle event {'msg': 'effective_min_count=20 leaves 188764 word corpus (85.94440776743232%% of original 219635, drops 30871)', 'datetime': '2021-06-21T15:33:14.459708', 'gensim': '4.0.1', 'python': '3.7.4 (default, Aug  9 2019, 18:34:13) [MSC v.1915 64 bit (AMD64)]', 'platform': 'Windows-10-10.0.19041-SP0', 'event': 'prepare_vocab'}\n",
      "INFO - 15:33:14: deleting the raw counts dictionary of 9440 items\n",
      "INFO - 15:33:14: sample=6e-05 downsamples 1377 most-common words\n",
      "INFO - 15:33:14: Word2Vec lifecycle event {'msg': 'downsampling leaves estimated 71595.80233184689 word corpus (37.9%% of prior 188764)', 'datetime': '2021-06-21T15:33:14.478825', 'gensim': '4.0.1', 'python': '3.7.4 (default, Aug  9 2019, 18:34:13) [MSC v.1915 64 bit (AMD64)]', 'platform': 'Windows-10-10.0.19041-SP0', 'event': 'prepare_vocab'}\n",
      "INFO - 15:33:14: estimated required memory for 1757 words and 300 dimensions: 5095300 bytes\n",
      "INFO - 15:33:14: resetting layer weights\n",
      "INFO - 15:33:14: Word2Vec lifecycle event {'update': False, 'trim_rule': 'None', 'datetime': '2021-06-21T15:33:14.514887', 'gensim': '4.0.1', 'python': '3.7.4 (default, Aug  9 2019, 18:34:13) [MSC v.1915 64 bit (AMD64)]', 'platform': 'Windows-10-10.0.19041-SP0', 'event': 'build_vocab'}\n"
     ]
    },
    {
     "name": "stdout",
     "output_type": "stream",
     "text": [
      "Time to build vocab: 0.01 mins\n"
     ]
    }
   ],
   "source": [
    "t = time()\n",
    "\n",
    "w2v_model.build_vocab(sentences, progress_per=10000)\n",
    "\n",
    "print('Time to build vocab: {} mins'.format(round((time() - t) / 60, 2)))"
   ]
  },
  {
   "cell_type": "code",
   "execution_count": 27,
   "metadata": {},
   "outputs": [
    {
     "name": "stderr",
     "output_type": "stream",
     "text": [
      "INFO - 15:33:54: Word2Vec lifecycle event {'msg': 'training model with 7 workers on 1757 vocabulary and 300 features, using sg=0 hs=0 sample=6e-05 negative=20 window=2', 'datetime': '2021-06-21T15:33:54.853861', 'gensim': '4.0.1', 'python': '3.7.4 (default, Aug  9 2019, 18:34:13) [MSC v.1915 64 bit (AMD64)]', 'platform': 'Windows-10-10.0.19041-SP0', 'event': 'train'}\n",
      "INFO - 15:33:55: worker thread finished; awaiting finish of 6 more threads\n",
      "INFO - 15:33:55: worker thread finished; awaiting finish of 5 more threads\n",
      "INFO - 15:33:55: worker thread finished; awaiting finish of 4 more threads\n",
      "INFO - 15:33:55: worker thread finished; awaiting finish of 3 more threads\n",
      "INFO - 15:33:55: worker thread finished; awaiting finish of 2 more threads\n",
      "INFO - 15:33:55: worker thread finished; awaiting finish of 1 more threads\n",
      "INFO - 15:33:55: worker thread finished; awaiting finish of 0 more threads\n",
      "INFO - 15:33:55: EPOCH - 1 : training on 219635 raw words (71523 effective words) took 0.4s, 169321 effective words/s\n",
      "INFO - 15:33:55: worker thread finished; awaiting finish of 6 more threads\n",
      "INFO - 15:33:55: worker thread finished; awaiting finish of 5 more threads\n",
      "INFO - 15:33:55: worker thread finished; awaiting finish of 4 more threads\n",
      "INFO - 15:33:55: worker thread finished; awaiting finish of 3 more threads\n",
      "INFO - 15:33:55: worker thread finished; awaiting finish of 2 more threads\n",
      "INFO - 15:33:55: worker thread finished; awaiting finish of 1 more threads\n",
      "INFO - 15:33:55: worker thread finished; awaiting finish of 0 more threads\n",
      "INFO - 15:33:55: EPOCH - 2 : training on 219635 raw words (71546 effective words) took 0.5s, 157295 effective words/s\n",
      "INFO - 15:33:56: worker thread finished; awaiting finish of 6 more threads\n",
      "INFO - 15:33:56: worker thread finished; awaiting finish of 5 more threads\n",
      "INFO - 15:33:56: worker thread finished; awaiting finish of 4 more threads\n",
      "INFO - 15:33:56: worker thread finished; awaiting finish of 3 more threads\n",
      "INFO - 15:33:56: worker thread finished; awaiting finish of 2 more threads\n",
      "INFO - 15:33:56: worker thread finished; awaiting finish of 1 more threads\n",
      "INFO - 15:33:56: worker thread finished; awaiting finish of 0 more threads\n",
      "INFO - 15:33:56: EPOCH - 3 : training on 219635 raw words (71437 effective words) took 0.5s, 150503 effective words/s\n",
      "INFO - 15:33:56: worker thread finished; awaiting finish of 6 more threads\n",
      "INFO - 15:33:56: worker thread finished; awaiting finish of 5 more threads\n",
      "INFO - 15:33:56: worker thread finished; awaiting finish of 4 more threads\n",
      "INFO - 15:33:56: worker thread finished; awaiting finish of 3 more threads\n",
      "INFO - 15:33:56: worker thread finished; awaiting finish of 2 more threads\n",
      "INFO - 15:33:56: worker thread finished; awaiting finish of 1 more threads\n",
      "INFO - 15:33:56: worker thread finished; awaiting finish of 0 more threads\n",
      "INFO - 15:33:56: EPOCH - 4 : training on 219635 raw words (71737 effective words) took 0.5s, 154217 effective words/s\n",
      "INFO - 15:33:57: worker thread finished; awaiting finish of 6 more threads\n",
      "INFO - 15:33:57: worker thread finished; awaiting finish of 5 more threads\n",
      "INFO - 15:33:57: worker thread finished; awaiting finish of 4 more threads\n",
      "INFO - 15:33:57: worker thread finished; awaiting finish of 3 more threads\n",
      "INFO - 15:33:57: worker thread finished; awaiting finish of 2 more threads\n",
      "INFO - 15:33:57: worker thread finished; awaiting finish of 1 more threads\n",
      "INFO - 15:33:57: worker thread finished; awaiting finish of 0 more threads\n",
      "INFO - 15:33:57: EPOCH - 5 : training on 219635 raw words (71793 effective words) took 0.5s, 143394 effective words/s\n",
      "INFO - 15:33:57: worker thread finished; awaiting finish of 6 more threads\n",
      "INFO - 15:33:57: worker thread finished; awaiting finish of 5 more threads\n",
      "INFO - 15:33:57: worker thread finished; awaiting finish of 4 more threads\n",
      "INFO - 15:33:57: worker thread finished; awaiting finish of 3 more threads\n",
      "INFO - 15:33:57: worker thread finished; awaiting finish of 2 more threads\n",
      "INFO - 15:33:57: worker thread finished; awaiting finish of 1 more threads\n",
      "INFO - 15:33:57: worker thread finished; awaiting finish of 0 more threads\n",
      "INFO - 15:33:57: EPOCH - 6 : training on 219635 raw words (71333 effective words) took 0.5s, 148193 effective words/s\n",
      "INFO - 15:33:58: worker thread finished; awaiting finish of 6 more threads\n",
      "INFO - 15:33:58: worker thread finished; awaiting finish of 5 more threads\n",
      "INFO - 15:33:58: worker thread finished; awaiting finish of 4 more threads\n",
      "INFO - 15:33:58: worker thread finished; awaiting finish of 3 more threads\n",
      "INFO - 15:33:58: worker thread finished; awaiting finish of 2 more threads\n",
      "INFO - 15:33:58: worker thread finished; awaiting finish of 1 more threads\n",
      "INFO - 15:33:58: worker thread finished; awaiting finish of 0 more threads\n",
      "INFO - 15:33:58: EPOCH - 7 : training on 219635 raw words (71669 effective words) took 0.4s, 175725 effective words/s\n",
      "INFO - 15:33:58: worker thread finished; awaiting finish of 6 more threads\n",
      "INFO - 15:33:58: worker thread finished; awaiting finish of 5 more threads\n",
      "INFO - 15:33:58: worker thread finished; awaiting finish of 4 more threads\n",
      "INFO - 15:33:58: worker thread finished; awaiting finish of 3 more threads\n",
      "INFO - 15:33:58: worker thread finished; awaiting finish of 2 more threads\n",
      "INFO - 15:33:58: worker thread finished; awaiting finish of 1 more threads\n",
      "INFO - 15:33:58: worker thread finished; awaiting finish of 0 more threads\n",
      "INFO - 15:33:58: EPOCH - 8 : training on 219635 raw words (71777 effective words) took 0.5s, 144666 effective words/s\n",
      "INFO - 15:33:59: worker thread finished; awaiting finish of 6 more threads\n",
      "INFO - 15:33:59: worker thread finished; awaiting finish of 5 more threads\n",
      "INFO - 15:33:59: worker thread finished; awaiting finish of 4 more threads\n",
      "INFO - 15:33:59: worker thread finished; awaiting finish of 3 more threads\n",
      "INFO - 15:33:59: worker thread finished; awaiting finish of 2 more threads\n",
      "INFO - 15:33:59: worker thread finished; awaiting finish of 1 more threads\n",
      "INFO - 15:33:59: worker thread finished; awaiting finish of 0 more threads\n",
      "INFO - 15:33:59: EPOCH - 9 : training on 219635 raw words (71460 effective words) took 0.5s, 156709 effective words/s\n",
      "INFO - 15:33:59: worker thread finished; awaiting finish of 6 more threads\n",
      "INFO - 15:33:59: worker thread finished; awaiting finish of 5 more threads\n",
      "INFO - 15:33:59: worker thread finished; awaiting finish of 4 more threads\n",
      "INFO - 15:33:59: worker thread finished; awaiting finish of 3 more threads\n",
      "INFO - 15:33:59: worker thread finished; awaiting finish of 2 more threads\n",
      "INFO - 15:33:59: worker thread finished; awaiting finish of 1 more threads\n",
      "INFO - 15:33:59: worker thread finished; awaiting finish of 0 more threads\n",
      "INFO - 15:33:59: EPOCH - 10 : training on 219635 raw words (71550 effective words) took 0.5s, 149677 effective words/s\n",
      "INFO - 15:34:00: worker thread finished; awaiting finish of 6 more threads\n",
      "INFO - 15:34:00: worker thread finished; awaiting finish of 5 more threads\n",
      "INFO - 15:34:00: worker thread finished; awaiting finish of 4 more threads\n",
      "INFO - 15:34:00: worker thread finished; awaiting finish of 3 more threads\n",
      "INFO - 15:34:00: worker thread finished; awaiting finish of 2 more threads\n",
      "INFO - 15:34:00: worker thread finished; awaiting finish of 1 more threads\n",
      "INFO - 15:34:00: worker thread finished; awaiting finish of 0 more threads\n",
      "INFO - 15:34:00: EPOCH - 11 : training on 219635 raw words (71512 effective words) took 0.7s, 96376 effective words/s\n",
      "INFO - 15:34:00: worker thread finished; awaiting finish of 6 more threads\n",
      "INFO - 15:34:00: worker thread finished; awaiting finish of 5 more threads\n",
      "INFO - 15:34:00: worker thread finished; awaiting finish of 4 more threads\n",
      "INFO - 15:34:00: worker thread finished; awaiting finish of 3 more threads\n",
      "INFO - 15:34:00: worker thread finished; awaiting finish of 2 more threads\n",
      "INFO - 15:34:00: worker thread finished; awaiting finish of 1 more threads\n",
      "INFO - 15:34:00: worker thread finished; awaiting finish of 0 more threads\n",
      "INFO - 15:34:00: EPOCH - 12 : training on 219635 raw words (71592 effective words) took 0.4s, 170321 effective words/s\n",
      "INFO - 15:34:01: worker thread finished; awaiting finish of 6 more threads\n",
      "INFO - 15:34:01: worker thread finished; awaiting finish of 5 more threads\n"
     ]
    },
    {
     "name": "stderr",
     "output_type": "stream",
     "text": [
      "INFO - 15:34:01: worker thread finished; awaiting finish of 4 more threads\n",
      "INFO - 15:34:01: worker thread finished; awaiting finish of 3 more threads\n",
      "INFO - 15:34:01: worker thread finished; awaiting finish of 2 more threads\n",
      "INFO - 15:34:01: worker thread finished; awaiting finish of 1 more threads\n",
      "INFO - 15:34:01: worker thread finished; awaiting finish of 0 more threads\n",
      "INFO - 15:34:01: EPOCH - 13 : training on 219635 raw words (71264 effective words) took 0.5s, 145145 effective words/s\n",
      "INFO - 15:34:01: worker thread finished; awaiting finish of 6 more threads\n",
      "INFO - 15:34:01: worker thread finished; awaiting finish of 5 more threads\n",
      "INFO - 15:34:01: worker thread finished; awaiting finish of 4 more threads\n",
      "INFO - 15:34:01: worker thread finished; awaiting finish of 3 more threads\n",
      "INFO - 15:34:01: worker thread finished; awaiting finish of 2 more threads\n",
      "INFO - 15:34:01: worker thread finished; awaiting finish of 1 more threads\n",
      "INFO - 15:34:01: worker thread finished; awaiting finish of 0 more threads\n",
      "INFO - 15:34:01: EPOCH - 14 : training on 219635 raw words (71615 effective words) took 0.5s, 135927 effective words/s\n",
      "INFO - 15:34:02: worker thread finished; awaiting finish of 6 more threads\n",
      "INFO - 15:34:02: worker thread finished; awaiting finish of 5 more threads\n",
      "INFO - 15:34:02: worker thread finished; awaiting finish of 4 more threads\n",
      "INFO - 15:34:02: worker thread finished; awaiting finish of 3 more threads\n",
      "INFO - 15:34:02: worker thread finished; awaiting finish of 2 more threads\n",
      "INFO - 15:34:02: worker thread finished; awaiting finish of 1 more threads\n",
      "INFO - 15:34:02: worker thread finished; awaiting finish of 0 more threads\n",
      "INFO - 15:34:02: EPOCH - 15 : training on 219635 raw words (71527 effective words) took 0.5s, 141935 effective words/s\n",
      "INFO - 15:34:02: worker thread finished; awaiting finish of 6 more threads\n",
      "INFO - 15:34:02: worker thread finished; awaiting finish of 5 more threads\n",
      "INFO - 15:34:02: worker thread finished; awaiting finish of 4 more threads\n",
      "INFO - 15:34:02: worker thread finished; awaiting finish of 3 more threads\n",
      "INFO - 15:34:02: worker thread finished; awaiting finish of 2 more threads\n",
      "INFO - 15:34:02: worker thread finished; awaiting finish of 1 more threads\n",
      "INFO - 15:34:02: worker thread finished; awaiting finish of 0 more threads\n",
      "INFO - 15:34:02: EPOCH - 16 : training on 219635 raw words (71681 effective words) took 0.5s, 143616 effective words/s\n",
      "INFO - 15:34:03: worker thread finished; awaiting finish of 6 more threads\n",
      "INFO - 15:34:03: worker thread finished; awaiting finish of 5 more threads\n",
      "INFO - 15:34:03: worker thread finished; awaiting finish of 4 more threads\n",
      "INFO - 15:34:03: worker thread finished; awaiting finish of 3 more threads\n",
      "INFO - 15:34:03: worker thread finished; awaiting finish of 2 more threads\n",
      "INFO - 15:34:03: worker thread finished; awaiting finish of 1 more threads\n",
      "INFO - 15:34:03: worker thread finished; awaiting finish of 0 more threads\n",
      "INFO - 15:34:03: EPOCH - 17 : training on 219635 raw words (71928 effective words) took 0.6s, 124172 effective words/s\n",
      "INFO - 15:34:03: worker thread finished; awaiting finish of 6 more threads\n",
      "INFO - 15:34:03: worker thread finished; awaiting finish of 5 more threads\n",
      "INFO - 15:34:03: worker thread finished; awaiting finish of 4 more threads\n",
      "INFO - 15:34:03: worker thread finished; awaiting finish of 3 more threads\n",
      "INFO - 15:34:03: worker thread finished; awaiting finish of 2 more threads\n",
      "INFO - 15:34:03: worker thread finished; awaiting finish of 1 more threads\n",
      "INFO - 15:34:03: worker thread finished; awaiting finish of 0 more threads\n",
      "INFO - 15:34:03: EPOCH - 18 : training on 219635 raw words (71693 effective words) took 0.4s, 180526 effective words/s\n",
      "INFO - 15:34:04: worker thread finished; awaiting finish of 6 more threads\n",
      "INFO - 15:34:04: worker thread finished; awaiting finish of 5 more threads\n",
      "INFO - 15:34:04: worker thread finished; awaiting finish of 4 more threads\n",
      "INFO - 15:34:04: worker thread finished; awaiting finish of 3 more threads\n",
      "INFO - 15:34:04: worker thread finished; awaiting finish of 2 more threads\n",
      "INFO - 15:34:04: worker thread finished; awaiting finish of 1 more threads\n",
      "INFO - 15:34:04: worker thread finished; awaiting finish of 0 more threads\n",
      "INFO - 15:34:04: EPOCH - 19 : training on 219635 raw words (71533 effective words) took 0.4s, 169853 effective words/s\n",
      "INFO - 15:34:04: worker thread finished; awaiting finish of 6 more threads\n",
      "INFO - 15:34:04: worker thread finished; awaiting finish of 5 more threads\n",
      "INFO - 15:34:04: worker thread finished; awaiting finish of 4 more threads\n",
      "INFO - 15:34:04: worker thread finished; awaiting finish of 3 more threads\n",
      "INFO - 15:34:04: worker thread finished; awaiting finish of 2 more threads\n",
      "INFO - 15:34:04: worker thread finished; awaiting finish of 1 more threads\n",
      "INFO - 15:34:04: worker thread finished; awaiting finish of 0 more threads\n",
      "INFO - 15:34:04: EPOCH - 20 : training on 219635 raw words (71653 effective words) took 0.5s, 158666 effective words/s\n",
      "INFO - 15:34:05: worker thread finished; awaiting finish of 6 more threads\n",
      "INFO - 15:34:05: worker thread finished; awaiting finish of 5 more threads\n",
      "INFO - 15:34:05: worker thread finished; awaiting finish of 4 more threads\n",
      "INFO - 15:34:05: worker thread finished; awaiting finish of 3 more threads\n",
      "INFO - 15:34:05: worker thread finished; awaiting finish of 2 more threads\n",
      "INFO - 15:34:05: worker thread finished; awaiting finish of 1 more threads\n",
      "INFO - 15:34:05: worker thread finished; awaiting finish of 0 more threads\n",
      "INFO - 15:34:05: EPOCH - 21 : training on 219635 raw words (71916 effective words) took 0.4s, 182508 effective words/s\n",
      "INFO - 15:34:05: worker thread finished; awaiting finish of 6 more threads\n",
      "INFO - 15:34:05: worker thread finished; awaiting finish of 5 more threads\n",
      "INFO - 15:34:05: worker thread finished; awaiting finish of 4 more threads\n",
      "INFO - 15:34:05: worker thread finished; awaiting finish of 3 more threads\n",
      "INFO - 15:34:05: worker thread finished; awaiting finish of 2 more threads\n",
      "INFO - 15:34:05: worker thread finished; awaiting finish of 1 more threads\n",
      "INFO - 15:34:05: worker thread finished; awaiting finish of 0 more threads\n",
      "INFO - 15:34:05: EPOCH - 22 : training on 219635 raw words (71769 effective words) took 0.5s, 131965 effective words/s\n",
      "INFO - 15:34:06: worker thread finished; awaiting finish of 6 more threads\n",
      "INFO - 15:34:06: worker thread finished; awaiting finish of 5 more threads\n",
      "INFO - 15:34:06: worker thread finished; awaiting finish of 4 more threads\n",
      "INFO - 15:34:06: worker thread finished; awaiting finish of 3 more threads\n",
      "INFO - 15:34:06: worker thread finished; awaiting finish of 2 more threads\n",
      "INFO - 15:34:06: worker thread finished; awaiting finish of 1 more threads\n",
      "INFO - 15:34:06: worker thread finished; awaiting finish of 0 more threads\n",
      "INFO - 15:34:06: EPOCH - 23 : training on 219635 raw words (71637 effective words) took 0.5s, 140684 effective words/s\n",
      "INFO - 15:34:06: worker thread finished; awaiting finish of 6 more threads\n",
      "INFO - 15:34:06: worker thread finished; awaiting finish of 5 more threads\n",
      "INFO - 15:34:06: worker thread finished; awaiting finish of 4 more threads\n",
      "INFO - 15:34:06: worker thread finished; awaiting finish of 3 more threads\n",
      "INFO - 15:34:06: worker thread finished; awaiting finish of 2 more threads\n",
      "INFO - 15:34:06: worker thread finished; awaiting finish of 1 more threads\n",
      "INFO - 15:34:06: worker thread finished; awaiting finish of 0 more threads\n",
      "INFO - 15:34:06: EPOCH - 24 : training on 219635 raw words (71688 effective words) took 0.4s, 176871 effective words/s\n",
      "INFO - 15:34:07: worker thread finished; awaiting finish of 6 more threads\n",
      "INFO - 15:34:07: worker thread finished; awaiting finish of 5 more threads\n",
      "INFO - 15:34:07: worker thread finished; awaiting finish of 4 more threads\n",
      "INFO - 15:34:07: worker thread finished; awaiting finish of 3 more threads\n",
      "INFO - 15:34:07: worker thread finished; awaiting finish of 2 more threads\n",
      "INFO - 15:34:07: worker thread finished; awaiting finish of 1 more threads\n",
      "INFO - 15:34:07: worker thread finished; awaiting finish of 0 more threads\n",
      "INFO - 15:34:07: EPOCH - 25 : training on 219635 raw words (71843 effective words) took 0.4s, 173726 effective words/s\n"
     ]
    },
    {
     "name": "stderr",
     "output_type": "stream",
     "text": [
      "INFO - 15:34:07: worker thread finished; awaiting finish of 6 more threads\n",
      "INFO - 15:34:07: worker thread finished; awaiting finish of 5 more threads\n",
      "INFO - 15:34:07: worker thread finished; awaiting finish of 4 more threads\n",
      "INFO - 15:34:07: worker thread finished; awaiting finish of 3 more threads\n",
      "INFO - 15:34:07: worker thread finished; awaiting finish of 2 more threads\n",
      "INFO - 15:34:07: worker thread finished; awaiting finish of 1 more threads\n",
      "INFO - 15:34:07: worker thread finished; awaiting finish of 0 more threads\n",
      "INFO - 15:34:07: EPOCH - 26 : training on 219635 raw words (71474 effective words) took 0.5s, 139993 effective words/s\n",
      "INFO - 15:34:08: worker thread finished; awaiting finish of 6 more threads\n",
      "INFO - 15:34:08: worker thread finished; awaiting finish of 5 more threads\n",
      "INFO - 15:34:08: worker thread finished; awaiting finish of 4 more threads\n",
      "INFO - 15:34:08: worker thread finished; awaiting finish of 3 more threads\n",
      "INFO - 15:34:08: worker thread finished; awaiting finish of 2 more threads\n",
      "INFO - 15:34:08: worker thread finished; awaiting finish of 1 more threads\n",
      "INFO - 15:34:08: worker thread finished; awaiting finish of 0 more threads\n",
      "INFO - 15:34:08: EPOCH - 27 : training on 219635 raw words (71675 effective words) took 0.4s, 180815 effective words/s\n",
      "INFO - 15:34:08: worker thread finished; awaiting finish of 6 more threads\n",
      "INFO - 15:34:08: worker thread finished; awaiting finish of 5 more threads\n",
      "INFO - 15:34:08: worker thread finished; awaiting finish of 4 more threads\n",
      "INFO - 15:34:08: worker thread finished; awaiting finish of 3 more threads\n",
      "INFO - 15:34:08: worker thread finished; awaiting finish of 2 more threads\n",
      "INFO - 15:34:08: worker thread finished; awaiting finish of 1 more threads\n",
      "INFO - 15:34:08: worker thread finished; awaiting finish of 0 more threads\n",
      "INFO - 15:34:08: EPOCH - 28 : training on 219635 raw words (71501 effective words) took 0.4s, 167842 effective words/s\n",
      "INFO - 15:34:09: worker thread finished; awaiting finish of 6 more threads\n",
      "INFO - 15:34:09: worker thread finished; awaiting finish of 5 more threads\n",
      "INFO - 15:34:09: worker thread finished; awaiting finish of 4 more threads\n",
      "INFO - 15:34:09: worker thread finished; awaiting finish of 3 more threads\n",
      "INFO - 15:34:09: worker thread finished; awaiting finish of 2 more threads\n",
      "INFO - 15:34:09: worker thread finished; awaiting finish of 1 more threads\n",
      "INFO - 15:34:09: worker thread finished; awaiting finish of 0 more threads\n",
      "INFO - 15:34:09: EPOCH - 29 : training on 219635 raw words (71648 effective words) took 0.5s, 157415 effective words/s\n",
      "INFO - 15:34:09: worker thread finished; awaiting finish of 6 more threads\n",
      "INFO - 15:34:09: worker thread finished; awaiting finish of 5 more threads\n",
      "INFO - 15:34:09: worker thread finished; awaiting finish of 4 more threads\n",
      "INFO - 15:34:09: worker thread finished; awaiting finish of 3 more threads\n",
      "INFO - 15:34:09: worker thread finished; awaiting finish of 2 more threads\n",
      "INFO - 15:34:09: worker thread finished; awaiting finish of 1 more threads\n",
      "INFO - 15:34:09: worker thread finished; awaiting finish of 0 more threads\n",
      "INFO - 15:34:09: EPOCH - 30 : training on 219635 raw words (71516 effective words) took 0.5s, 140924 effective words/s\n",
      "INFO - 15:34:09: Word2Vec lifecycle event {'msg': 'training on 6589050 raw words (2148490 effective words) took 14.7s, 145749 effective words/s', 'datetime': '2021-06-21T15:34:09.595985', 'gensim': '4.0.1', 'python': '3.7.4 (default, Aug  9 2019, 18:34:13) [MSC v.1915 64 bit (AMD64)]', 'platform': 'Windows-10-10.0.19041-SP0', 'event': 'train'}\n"
     ]
    },
    {
     "name": "stdout",
     "output_type": "stream",
     "text": [
      "Time to train the model: 0.25 mins\n"
     ]
    }
   ],
   "source": [
    "t = time()\n",
    "\n",
    "w2v_model.train(sentences, total_examples=w2v_model.corpus_count, epochs=30, report_delay=1)\n",
    "\n",
    "print('Time to train the model: {} mins'.format(round((time() - t) / 60, 2)))"
   ]
  },
  {
   "cell_type": "code",
   "execution_count": 28,
   "metadata": {},
   "outputs": [
    {
     "data": {
      "text/plain": [
       "[('mrs_smith', 0.9818253517150879),\n",
       " ('uneasiness', 0.9802464246749878),\n",
       " ('attack', 0.9790033102035522),\n",
       " ('woodhouse', 0.9788140058517456),\n",
       " ('pity', 0.9785251617431641),\n",
       " ('tone', 0.9782025814056396),\n",
       " ('harriet', 0.9778661727905273),\n",
       " ('repeatedly', 0.9774565100669861),\n",
       " ('nay', 0.976922333240509),\n",
       " ('dearest', 0.9767017364501953)]"
      ]
     },
     "execution_count": 28,
     "metadata": {},
     "output_type": "execute_result"
    }
   ],
   "source": [
    "w2v_model.wv.most_similar(positive=[\"emma\"])"
   ]
  },
  {
   "cell_type": "code",
   "execution_count": 29,
   "metadata": {},
   "outputs": [
    {
     "data": {
      "text/plain": [
       "[('mrs_clay', 0.9824334383010864),\n",
       " ('mrs_croft', 0.9810024499893188),\n",
       " ('lady_russell', 0.978809118270874),\n",
       " ('shocking', 0.9779570698738098),\n",
       " ('gravely', 0.9773997664451599),\n",
       " ('afraid', 0.9771175980567932),\n",
       " ('tone', 0.9765220284461975),\n",
       " ('grave', 0.9764694571495056),\n",
       " ('answer', 0.9755778908729553),\n",
       " ('captain_benwick', 0.974706768989563)]"
      ]
     },
     "execution_count": 29,
     "metadata": {},
     "output_type": "execute_result"
    }
   ],
   "source": [
    "w2v_model.wv.most_similar(positive=[\"anne\"])"
   ]
  },
  {
   "cell_type": "code",
   "execution_count": 30,
   "metadata": {},
   "outputs": [
    {
     "data": {
      "text/plain": [
       "[('collin', 0.9936172962188721),\n",
       " ('summon', 0.9934342503547668),\n",
       " ('spare', 0.9928950071334839),\n",
       " ('welcome', 0.9926381707191467),\n",
       " ('visitor', 0.992235541343689),\n",
       " ('immediately', 0.9921725392341614),\n",
       " ('gentleman', 0.9921592473983765),\n",
       " ('message', 0.9917341470718384),\n",
       " ('errand', 0.9916968941688538),\n",
       " ('haste', 0.9916911125183105)]"
      ]
     },
     "execution_count": 30,
     "metadata": {},
     "output_type": "execute_result"
    }
   ],
   "source": [
    "w2v_model.wv.most_similar(positive=[\"bennet\"])"
   ]
  },
  {
   "cell_type": "code",
   "execution_count": 31,
   "metadata": {},
   "outputs": [
    {
     "data": {
      "text/plain": [
       "[('darcy', 0.991257905960083),\n",
       " ('syllable', 0.9911876320838928),\n",
       " ('subject', 0.9905037879943848),\n",
       " ('earnestness', 0.9900066256523132),\n",
       " ('vain', 0.9892899394035339),\n",
       " ('vex', 0.9892096519470215),\n",
       " ('calm', 0.9890684485435486),\n",
       " ('wonder', 0.989057183265686),\n",
       " ('confusion', 0.9889301657676697),\n",
       " ('escape', 0.9885048270225525)]"
      ]
     },
     "execution_count": 31,
     "metadata": {},
     "output_type": "execute_result"
    }
   ],
   "source": [
    "w2v_model.wv.most_similar(positive=[\"elizabeth\"])"
   ]
  },
  {
   "cell_type": "code",
   "execution_count": 32,
   "metadata": {},
   "outputs": [
    {
     "data": {
      "text/plain": [
       "[('content', 0.9777386784553528),\n",
       " ('name', 0.9686528444290161),\n",
       " ('introduction', 0.9671883583068848),\n",
       " ('illustration', 0.9642709493637085),\n",
       " ('pen', 0.9617580771446228),\n",
       " ('read', 0.9485995769500732),\n",
       " ('end', 0.9472106695175171),\n",
       " ('volume', 0.9452657103538513),\n",
       " ('mansfield_park', 0.9438228607177734),\n",
       " ('part', 0.9394656419754028)]"
      ]
     },
     "execution_count": 32,
     "metadata": {},
     "output_type": "execute_result"
    }
   ],
   "source": [
    "w2v_model.wv.most_similar(positive=[\"jane\"])"
   ]
  },
  {
   "cell_type": "code",
   "execution_count": 33,
   "metadata": {},
   "outputs": [
    {
     "data": {
      "text/plain": [
       "[('attach', 0.9930488467216492),\n",
       " ('sensible', 0.9886719584465027),\n",
       " ('truly', 0.9848130345344543),\n",
       " ('man', 0.9799780249595642),\n",
       " ('pleasing', 0.9785743951797485),\n",
       " ('warmly', 0.9775708913803101),\n",
       " ('creature', 0.9774289131164551),\n",
       " ('greatly', 0.9773528575897217),\n",
       " ('young_woman', 0.9771261811256409),\n",
       " ('wish', 0.97575843334198)]"
      ]
     },
     "execution_count": 33,
     "metadata": {},
     "output_type": "execute_result"
    }
   ],
   "source": [
    "w2v_model.wv.most_similar(positive=[\"love\"])"
   ]
  },
  {
   "cell_type": "code",
   "execution_count": 34,
   "metadata": {},
   "outputs": [
    {
     "data": {
      "text/plain": [
       "[('amiable', 0.9848853945732117),\n",
       " ('man', 0.9805024266242981),\n",
       " ('temper', 0.9756810665130615),\n",
       " ('superior', 0.9747764468193054),\n",
       " ('world', 0.9740815162658691),\n",
       " ('disposition', 0.9715858697891235),\n",
       " ('understanding', 0.9702396988868713),\n",
       " ('sensible', 0.9699381589889526),\n",
       " ('attach', 0.9691227078437805),\n",
       " ('principle', 0.9684650897979736)]"
      ]
     },
     "execution_count": 34,
     "metadata": {},
     "output_type": "execute_result"
    }
   ],
   "source": [
    "w2v_model.wv.most_similar(positive=[\"woman\"])"
   ]
  },
  {
   "cell_type": "code",
   "execution_count": 35,
   "metadata": {},
   "outputs": [
    {
     "data": {
      "text/plain": [
       "[('sensible', 0.9854694604873657),\n",
       " ('attach', 0.9811521768569946),\n",
       " ('good', 0.9809165596961975),\n",
       " ('woman', 0.9805023670196533),\n",
       " ('love', 0.9799777865409851),\n",
       " ('young_man', 0.9795544147491455),\n",
       " ('young_woman', 0.9748412370681763),\n",
       " ('amiable', 0.9719375371932983),\n",
       " ('truly', 0.9704555869102478),\n",
       " ('superior', 0.9699298143386841)]"
      ]
     },
     "execution_count": 35,
     "metadata": {},
     "output_type": "execute_result"
    }
   ],
   "source": [
    "w2v_model.wv.most_similar(positive=[\"man\"])"
   ]
  },
  {
   "cell_type": "code",
   "execution_count": 37,
   "metadata": {},
   "outputs": [
    {
     "data": {
      "text/plain": [
       "[('lip', 0.9870926141738892),\n",
       " ('edmund', 0.9865078926086426),\n",
       " ('seize', 0.9856873154640198),\n",
       " ('progress', 0.9853487610816956),\n",
       " ('fanny', 0.9848389625549316),\n",
       " ('rouse', 0.9847782254219055),\n",
       " ('interval', 0.9839757680892944),\n",
       " ('exclaim', 0.9833624362945557),\n",
       " ('instant', 0.9830765128135681),\n",
       " ('silent', 0.9824821352958679)]"
      ]
     },
     "execution_count": 37,
     "metadata": {},
     "output_type": "execute_result"
    }
   ],
   "source": [
    "w2v_model.wv.most_similar(positive=[\"catherine\"])"
   ]
  },
  {
   "cell_type": "code",
   "execution_count": 38,
   "metadata": {},
   "outputs": [
    {
     "data": {
      "text/plain": [
       "[('method', 0.9900020360946655),\n",
       " ('prevent', 0.9874188899993896),\n",
       " ('benefit', 0.9873661994934082),\n",
       " ('form', 0.9867649674415588),\n",
       " ('people', 0.9867034554481506),\n",
       " ('expense', 0.9863875508308411),\n",
       " ('future', 0.986258864402771),\n",
       " ('assistance', 0.9859001040458679),\n",
       " ('demand', 0.9853525757789612),\n",
       " ('property', 0.985145628452301)]"
      ]
     },
     "execution_count": 38,
     "metadata": {},
     "output_type": "execute_result"
    }
   ],
   "source": [
    "w2v_model.wv.most_similar(positive=[\"money\"])"
   ]
  },
  {
   "cell_type": "code",
   "execution_count": 39,
   "metadata": {},
   "outputs": [
    {
     "data": {
      "text/plain": [
       "[('author', 0.9900986552238464),\n",
       " ('release', 0.9822546243667603),\n",
       " ('persuasion', 0.982123851776123),\n",
       " ('mansfield_park', 0.977662205696106),\n",
       " ('sensibility', 0.9776124358177185),\n",
       " ('name', 0.9722562432289124),\n",
       " ('prejudice', 0.9706600308418274),\n",
       " ('ebook', 0.9689764380455017),\n",
       " ('date', 0.9665245413780212),\n",
       " ('austen', 0.9624941349029541)]"
      ]
     },
     "execution_count": 39,
     "metadata": {},
     "output_type": "execute_result"
    }
   ],
   "source": [
    "w2v_model.wv.most_similar(positive=[\"novel\"])"
   ]
  },
  {
   "cell_type": "code",
   "execution_count": 40,
   "metadata": {},
   "outputs": [
    {
     "data": {
      "text/plain": [
       "[('instrument', 0.9938634634017944),\n",
       " ('key', 0.9932053089141846),\n",
       " ('sing', 0.9925236105918884),\n",
       " ('throw', 0.9924720525741577),\n",
       " ('haste', 0.992196261882782),\n",
       " ('errand', 0.9918410778045654),\n",
       " ('employ', 0.9917952418327332),\n",
       " ('bate', 0.991407036781311),\n",
       " ('loud', 0.9912134408950806),\n",
       " ('supper', 0.9910483360290527)]"
      ]
     },
     "execution_count": 40,
     "metadata": {},
     "output_type": "execute_result"
    }
   ],
   "source": [
    "w2v_model.wv.most_similar(positive=[\"pianoforte\"])"
   ]
  },
  {
   "cell_type": "code",
   "execution_count": 41,
   "metadata": {},
   "outputs": [
    {
     "name": "stdout",
     "output_type": "stream",
     "text": [
      "w2v_model.wv.similarity(emma, elinor) = 0.9711472988128662\n",
      "w2v_model.wv.similarity(emma, anne) = 0.9482250809669495\n",
      "w2v_model.wv.similarity(emma, elizabeth) = 0.9518204927444458\n",
      "w2v_model.wv.similarity(elinor, emma) = 0.9711472988128662\n",
      "w2v_model.wv.similarity(elinor, anne) = 0.9100161194801331\n",
      "w2v_model.wv.similarity(elinor, elizabeth) = 0.9534458518028259\n",
      "w2v_model.wv.similarity(anne, emma) = 0.9482250809669495\n",
      "w2v_model.wv.similarity(anne, elinor) = 0.9100161194801331\n",
      "w2v_model.wv.similarity(anne, elizabeth) = 0.9499994516372681\n",
      "w2v_model.wv.similarity(elizabeth, emma) = 0.9518204927444458\n",
      "w2v_model.wv.similarity(elizabeth, elinor) = 0.9534458518028259\n",
      "w2v_model.wv.similarity(elizabeth, anne) = 0.9499994516372681\n"
     ]
    }
   ],
   "source": [
    "character_list = ['emma', 'elinor', 'anne', 'elizabeth']\n",
    "for char1 in character_list:\n",
    "    for char2 in character_list:\n",
    "        if char1 != char2:\n",
    "            print(f'w2v_model.wv.similarity({char1}, {char2}) = {w2v_model.wv.similarity(char1, char2)}')"
   ]
  },
  {
   "cell_type": "code",
   "execution_count": 42,
   "metadata": {},
   "outputs": [
    {
     "data": {
      "text/plain": [
       "0.7109839"
      ]
     },
     "execution_count": 42,
     "metadata": {},
     "output_type": "execute_result"
    }
   ],
   "source": [
    "w2v_model.wv.similarity('elizabeth', 'jane')"
   ]
  },
  {
   "cell_type": "code",
   "execution_count": 43,
   "metadata": {},
   "outputs": [
    {
     "data": {
      "text/plain": [
       "0.990057"
      ]
     },
     "execution_count": 43,
     "metadata": {},
     "output_type": "execute_result"
    }
   ],
   "source": [
    "w2v_model.wv.similarity('darcy', 'knightley')"
   ]
  },
  {
   "cell_type": "code",
   "execution_count": 44,
   "metadata": {},
   "outputs": [
    {
     "data": {
      "text/plain": [
       "0.98107505"
      ]
     },
     "execution_count": 44,
     "metadata": {},
     "output_type": "execute_result"
    }
   ],
   "source": [
    "w2v_model.wv.similarity('darcy', 'churchill')"
   ]
  },
  {
   "cell_type": "code",
   "execution_count": 45,
   "metadata": {},
   "outputs": [
    {
     "name": "stdout",
     "output_type": "stream",
     "text": [
      "emma 0.9391938\n",
      "elinor 0.94287014\n",
      "anne 0.9384266\n",
      "elizabeth 0.97459376\n"
     ]
    }
   ],
   "source": [
    "for char in character_list:\n",
    "    print(char, w2v_model.wv.similarity(char, 'sister'))"
   ]
  },
  {
   "cell_type": "code",
   "execution_count": 46,
   "metadata": {},
   "outputs": [
    {
     "name": "stdout",
     "output_type": "stream",
     "text": [
      "emma 0.89333516\n",
      "elinor 0.8871371\n",
      "anne 0.89467454\n",
      "elizabeth 0.9136157\n"
     ]
    }
   ],
   "source": [
    "for char in character_list:\n",
    "    print(char, w2v_model.wv.similarity(char, 'love'))"
   ]
  },
  {
   "cell_type": "code",
   "execution_count": 47,
   "metadata": {},
   "outputs": [
    {
     "data": {
      "text/plain": [
       "0.9912579"
      ]
     },
     "execution_count": 47,
     "metadata": {},
     "output_type": "execute_result"
    }
   ],
   "source": [
    "w2v_model.wv.similarity('darcy', 'elizabeth')"
   ]
  },
  {
   "cell_type": "code",
   "execution_count": 49,
   "metadata": {},
   "outputs": [
    {
     "data": {
      "text/plain": [
       "'elizabeth'"
      ]
     },
     "execution_count": 49,
     "metadata": {},
     "output_type": "execute_result"
    }
   ],
   "source": [
    "w2v_model.wv.doesnt_match(['elinor', 'marianne', 'elizabeth'])"
   ]
  },
  {
   "cell_type": "code",
   "execution_count": 51,
   "metadata": {},
   "outputs": [
    {
     "data": {
      "text/plain": [
       "'churchill'"
      ]
     },
     "execution_count": 51,
     "metadata": {},
     "output_type": "execute_result"
    }
   ],
   "source": [
    "w2v_model.wv.doesnt_match(['elton', 'churchill', 'knightley'])"
   ]
  },
  {
   "cell_type": "code",
   "execution_count": 52,
   "metadata": {},
   "outputs": [
    {
     "data": {
      "text/plain": [
       "'love'"
      ]
     },
     "execution_count": 52,
     "metadata": {},
     "output_type": "execute_result"
    }
   ],
   "source": [
    "w2v_model.wv.doesnt_match(['money', 'love', 'happiness'])"
   ]
  },
  {
   "cell_type": "code",
   "execution_count": 53,
   "metadata": {},
   "outputs": [
    {
     "data": {
      "text/plain": [
       "'money'"
      ]
     },
     "execution_count": 53,
     "metadata": {},
     "output_type": "execute_result"
    }
   ],
   "source": [
    "w2v_model.wv.doesnt_match(['marriage', 'money', 'happiness'])"
   ]
  },
  {
   "cell_type": "code",
   "execution_count": 54,
   "metadata": {},
   "outputs": [
    {
     "data": {
      "text/plain": [
       "[('repeat', 0.9739304184913635),\n",
       " ('woodhouse', 0.9714009761810303),\n",
       " ('miss_dashwood', 0.9699755311012268),\n",
       " ('uneasiness', 0.9677491188049316),\n",
       " ('longer', 0.9675680994987488),\n",
       " ('attack', 0.9663690328598022),\n",
       " ('miserable', 0.9654703736305237),\n",
       " ('rate', 0.965100884437561),\n",
       " ('mrs_smith', 0.9650630354881287),\n",
       " ('pleasantly', 0.9649074673652649),\n",
       " ('wretched', 0.964728832244873),\n",
       " ('acquaint', 0.9633142948150635),\n",
       " ('safe', 0.9631829857826233),\n",
       " ('edmund', 0.9629471302032471),\n",
       " ('mr', 0.96277916431427),\n",
       " ('presume', 0.9620064496994019),\n",
       " ('recollect', 0.9616267681121826),\n",
       " ('fair', 0.961337149143219),\n",
       " ('shepherd', 0.9606789946556091),\n",
       " ('company', 0.9594470262527466),\n",
       " ('dashwood', 0.959216833114624),\n",
       " ('continue', 0.9587913155555725),\n",
       " ('repeatedly', 0.9586361646652222),\n",
       " ('sad', 0.9583722949028015),\n",
       " ('mrs', 0.957291305065155),\n",
       " ('odd', 0.9570993185043335),\n",
       " ('lose', 0.9569233059883118),\n",
       " ('tom', 0.9567751884460449),\n",
       " ('opportunity', 0.9561271667480469),\n",
       " ('detain', 0.9560753703117371),\n",
       " ('history', 0.9560654163360596),\n",
       " ('entertain', 0.9560147523880005),\n",
       " ('progress', 0.9559858441352844),\n",
       " ('nurse', 0.9558980464935303),\n",
       " ('decidedly', 0.9551353454589844),\n",
       " ('grieve', 0.9550649523735046),\n",
       " ('willing', 0.9549962282180786),\n",
       " ('fanny_s', 0.9549834132194519),\n",
       " ('humour', 0.9548872113227844),\n",
       " ('answer', 0.9547744393348694),\n",
       " ('project', 0.9544885158538818),\n",
       " ('matter', 0.9544446468353271),\n",
       " ('elton', 0.9544385671615601),\n",
       " ('henry', 0.9541397094726562),\n",
       " ('expect', 0.9541342854499817),\n",
       " ('pity', 0.954072892665863),\n",
       " ('tone', 0.9537529349327087),\n",
       " ('mrs_clay', 0.953578531742096),\n",
       " ('die', 0.9535039663314819),\n",
       " ('pronounce', 0.9530528783798218),\n",
       " ('trick', 0.9530266523361206),\n",
       " ('puzzle', 0.9529618620872498),\n",
       " ('autumn', 0.9525808095932007),\n",
       " ('lady_russell', 0.9525644779205322),\n",
       " ('satisfaction', 0.9525415301322937),\n",
       " ('light', 0.9524391889572144),\n",
       " ('miss_bertram', 0.9522347450256348),\n",
       " ('companion', 0.952186107635498),\n",
       " ('courage', 0.952049195766449),\n",
       " ('despair', 0.9519933462142944),\n",
       " ('disappointment', 0.951870322227478),\n",
       " ('mrs_croft', 0.9518285989761353),\n",
       " ('sufficiently', 0.9516326785087585),\n",
       " ('busy', 0.9515452980995178),\n",
       " ('nay', 0.9514850378036499),\n",
       " ('awkward', 0.9514602422714233),\n",
       " ('dead', 0.951415479183197),\n",
       " ('exercise', 0.9512960910797119),\n",
       " ('disturb', 0.9512538909912109),\n",
       " ('departure', 0.9511634707450867),\n",
       " ('restore', 0.951156735420227),\n",
       " ('spite', 0.9511248469352722),\n",
       " ('appearance', 0.9511073231697083),\n",
       " ('dearest', 0.9510753750801086),\n",
       " ('hearing', 0.950955867767334),\n",
       " ('laugh', 0.9508447051048279),\n",
       " ('gallantry', 0.9508297443389893),\n",
       " ('pause', 0.9507490992546082),\n",
       " ('declare', 0.9506054520606995),\n",
       " ('frequently', 0.9505828619003296),\n",
       " ('perry', 0.9505397081375122),\n",
       " ('harriet', 0.9503889083862305),\n",
       " ('sir_walter', 0.9502518177032471),\n",
       " ('widow', 0.9502211809158325),\n",
       " ('thinking', 0.9501712918281555),\n",
       " ('lately', 0.9500930309295654),\n",
       " ('loss', 0.9500072002410889),\n",
       " ('ne', 0.9493845701217651),\n",
       " ('stranger', 0.9493498802185059),\n",
       " ('conversation', 0.949176549911499),\n",
       " ('symptom', 0.9489212036132812),\n",
       " ('miss_taylor', 0.9488911628723145),\n",
       " ('dare', 0.9488905668258667),\n",
       " ('gravely', 0.9488424062728882),\n",
       " ('frank', 0.9487924575805664),\n",
       " ('short', 0.9481709599494934),\n",
       " ('disappoint', 0.9481308460235596),\n",
       " ('exert', 0.9480318427085876),\n",
       " ('able', 0.9479771256446838),\n",
       " ('astonish', 0.947949230670929)]"
      ]
     },
     "execution_count": 54,
     "metadata": {},
     "output_type": "execute_result"
    }
   ],
   "source": [
    "# Analogies\n",
    "w2v_model.wv.most_similar(positive=[\"emma\", \"frank_churchill\"], negative=[\"elizabeth\"], topn=100)"
   ]
  },
  {
   "cell_type": "code",
   "execution_count": 55,
   "metadata": {},
   "outputs": [
    {
     "data": {
      "text/plain": [
       "[('marianne', 0.9739029407501221),\n",
       " ('eagerness', 0.9718604683876038),\n",
       " ('suspense', 0.9675864577293396),\n",
       " ('communicate', 0.9673932194709778),\n",
       " ('willoughby', 0.9645660519599915),\n",
       " ('impatience', 0.9641757011413574),\n",
       " ('occur', 0.959844708442688),\n",
       " ('precious', 0.9592320322990417),\n",
       " ('expectation', 0.9566597938537598),\n",
       " ('last', 0.9563021063804626),\n",
       " ('interval', 0.956092357635498),\n",
       " ('colonel_brandon', 0.955715000629425),\n",
       " ('safety', 0.9549240469932556),\n",
       " ('violent', 0.9543680548667908),\n",
       " ('compose', 0.9543472528457642),\n",
       " ('discern', 0.9542730450630188),\n",
       " ('wretchedness', 0.9541411399841309),\n",
       " ('momentary', 0.9531459808349609),\n",
       " ('conclude', 0.9530154466629028),\n",
       " ('spite', 0.9529486894607544),\n",
       " ('solitude', 0.9525130987167358),\n",
       " ('alarm', 0.9520838856697083),\n",
       " ('horror', 0.9519510865211487),\n",
       " ('employment', 0.9510950446128845),\n",
       " ('ascertain', 0.9507244229316711),\n",
       " ('succeed', 0.9506974220275879),\n",
       " ('jenning', 0.9506464004516602),\n",
       " ('perceive', 0.9506427645683289),\n",
       " ('explanation', 0.9501686692237854),\n",
       " ('apprehension', 0.9500693678855896),\n",
       " ('anticipate', 0.9500558972358704),\n",
       " ('henry_crawford', 0.9496979713439941),\n",
       " ('farth', 0.9492615461349487),\n",
       " ('force', 0.9491963982582092),\n",
       " ('absolute', 0.9491509795188904),\n",
       " ('reflection', 0.948693037033081),\n",
       " ('margaret', 0.9486767053604126),\n",
       " ('astonishment', 0.9486004114151001),\n",
       " ('carry', 0.9484962821006775),\n",
       " ('dreadful', 0.9481710195541382),\n",
       " ('certainty', 0.948000431060791),\n",
       " ('length', 0.947959303855896),\n",
       " ('beginning', 0.9475674629211426),\n",
       " ('prepare', 0.9468521475791931),\n",
       " ('lip', 0.9468114972114563),\n",
       " ('sir_thoma', 0.9467769861221313),\n",
       " ('wretched', 0.9463998675346375),\n",
       " ('attempt', 0.9460711479187012),\n",
       " ('readily', 0.9459998607635498),\n",
       " ('eager', 0.9457514882087708)]"
      ]
     },
     "execution_count": 55,
     "metadata": {},
     "output_type": "execute_result"
    }
   ],
   "source": [
    "w2v_model.wv.most_similar(positive=[\"elinor\", \"edward\"], negative=[\"love\"], topn=50)"
   ]
  },
  {
   "cell_type": "code",
   "execution_count": 56,
   "metadata": {},
   "outputs": [],
   "source": [
    "# Start with t-SNE visualizations\n",
    "# https://www.kaggle.com/pierremegret/gensim-word2vec-tutorial/notebook?scriptVersionId=6660075&cellId=75\n",
    "# Here we will explore PCA.\n",
    "\n",
    "import numpy as np\n",
    "import matplotlib.pyplot as plt\n",
    "%matplotlib inline\n",
    " \n",
    "import seaborn as sns\n",
    "sns.set_style(\"darkgrid\")\n",
    "\n",
    "from sklearn.decomposition import PCA\n",
    "from sklearn.manifold import TSNE"
   ]
  },
  {
   "cell_type": "code",
   "execution_count": 58,
   "metadata": {},
   "outputs": [],
   "source": [
    "# Code inspired by:\n",
    "# https://aneesha.medium.com/using-tsne-to-plot-a-subset-of-similar-words-from-word2vec-bb8eeaea6229\n",
    "\n",
    "def tsnescatterplot(model, word, list_names):\n",
    "    \"\"\" Plot in seaborn the results from the t-SNE dimensionality reduction algorithm of the vectors of a query word,\n",
    "    its list of most similar words, and a list of words.\n",
    "    \"\"\"\n",
    "\n",
    "    arrays = np.empty((0, 300), dtype='f')\n",
    "    word_labels = [word]\n",
    "    color_list  = ['red']\n",
    "\n",
    "    # adds the vector of the query word\n",
    "    arrays = np.append(arrays, model.wv.__getitem__([word]), axis=0)\n",
    "    \n",
    "    # gets list of most similar words\n",
    "    close_words = model.wv.most_similar([word])\n",
    "    \n",
    "    \n",
    "    # adds the vector for each of the closest words to the array\n",
    "    for wrd_score in close_words:\n",
    "        wrd_vector = model.wv.__getitem__([wrd_score[0]])\n",
    "        word_labels.append(wrd_score[0])\n",
    "        color_list.append('blue')\n",
    "        arrays = np.append(arrays, wrd_vector, axis=0)\n",
    "    \n",
    "    # adds the vector for each of the words from list_names to the array\n",
    "    for wrd in list_names:\n",
    "        wrd_vector = model.wv.__getitem__([wrd])\n",
    "        word_labels.append(wrd)\n",
    "        color_list.append('green')\n",
    "        arrays = np.append(arrays, wrd_vector, axis=0)\n",
    "        \n",
    "    # Reduces the dimensionality from 300 to 50 dimensions with PCA\n",
    "    reduc = PCA(n_components=19).fit_transform(arrays)\n",
    "    \n",
    "    # Finds t-SNE coordinates for 2 dimensions\n",
    "    np.set_printoptions(suppress=True)\n",
    "    \n",
    "    Y = TSNE(n_components=2, random_state=0, perplexity=15).fit_transform(reduc)\n",
    "    \n",
    "    # Sets everything up to plot\n",
    "    df = pd.DataFrame({'x': [x for x in Y[:, 0]],\n",
    "                       'y': [y for y in Y[:, 1]],\n",
    "                       'words': word_labels,\n",
    "                       'color': color_list})\n",
    "    \n",
    "    fig, _ = plt.subplots()\n",
    "    fig.set_size_inches(9, 9)\n",
    "    \n",
    "    # Basic plot\n",
    "    p1 = sns.regplot(data=df,\n",
    "                     x=\"x\",\n",
    "                     y=\"y\",\n",
    "                     fit_reg=False,\n",
    "                     marker=\"o\",\n",
    "                     scatter_kws={'s': 40,\n",
    "                                  'facecolors': df['color']\n",
    "                                 }\n",
    "                    )\n",
    "\n",
    "    \n",
    "    # Adds annotations one by one with a loop\n",
    "    for line in range(0, df.shape[0]):\n",
    "         p1.text(df[\"x\"][line],\n",
    "                 df['y'][line],\n",
    "                 '  ' + df[\"words\"][line].title(),\n",
    "                 horizontalalignment='left',\n",
    "                 verticalalignment='bottom', size='medium',\n",
    "                 color=df['color'][line],\n",
    "                 weight='normal'\n",
    "                ).set_size(15)\n",
    "\n",
    "    \n",
    "    plt.xlim(Y[:, 0].min()-50, Y[:, 0].max()+50)\n",
    "    plt.ylim(Y[:, 1].min()-50, Y[:, 1].max()+50)\n",
    "            \n",
    "    plt.title('t-SNE visualization for {}'.format(word.title()))\n",
    "    "
   ]
  },
  {
   "cell_type": "code",
   "execution_count": 59,
   "metadata": {},
   "outputs": [
    {
     "data": {
      "image/png": "[encoded data removed]",
      "text/plain": [
       "<Figure size 648x648 with 1 Axes>"
      ]
     },
     "metadata": {},
     "output_type": "display_data"
    }
   ],
   "source": [
    "tsnescatterplot(w2v_model, 'elizabeth', ['jane','sister','understanding', 'marriage','man', 'woman', 'love', 'husband', 'wife'])\n"
   ]
  }
 ],
 "metadata": {
  "kernelspec": {
   "display_name": "Python 3",
   "language": "python",
   "name": "python3"
  },
  "language_info": {
   "codemirror_mode": {
    "name": "ipython",
    "version": 3
   },
   "file_extension": ".py",
   "mimetype": "text/x-python",
   "name": "python",
   "nbconvert_exporter": "python",
   "pygments_lexer": "ipython3",
   "version": "3.7.4"
  }
 },
 "nbformat": 4,
 "nbformat_minor": 2
}
