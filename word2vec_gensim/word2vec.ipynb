{
 "cells": [
  {
   "cell_type": "code",
   "execution_count": 1,
   "metadata": {},
   "outputs": [],
   "source": [
    "import re  # For preprocessing\n",
    "import pandas as pd  # For data handling\n",
    "from time import time  # To time our operations\n",
    "from collections import defaultdict  # For word frequency\n",
    "\n",
    "import spacy  # For preprocessing\n",
    "\n",
    "import logging  # Setting up the loggings to monitor gensim\n",
    "logging.basicConfig(format=\"%(levelname)s - %(asctime)s: %(message)s\", datefmt= '%H:%M:%S', level=logging.INFO)"
   ]
  },
  {
   "cell_type": "code",
   "execution_count": 2,
   "metadata": {},
   "outputs": [
    {
     "data": {
      "text/plain": [
       "'C:\\\\Users\\\\Alex\\\\machine-learning\\\\word2vec_gensim'"
      ]
     },
     "execution_count": 2,
     "metadata": {},
     "output_type": "execute_result"
    }
   ],
   "source": [
    "import os\n",
    "os.getcwd()\n",
    "os.chdir(\"C:\\\\Users\\\\Alex\\\\machine-learning\\\\word2vec_gensim\")\n",
    "os.getcwd()"
   ]
  },
  {
   "cell_type": "code",
   "execution_count": 3,
   "metadata": {},
   "outputs": [
    {
     "data": {
      "text/plain": [
       "(158314, 2)"
      ]
     },
     "execution_count": 3,
     "metadata": {},
     "output_type": "execute_result"
    }
   ],
   "source": [
    "df = pd.read_csv('simpsons_dataset.csv')\n",
    "df.shape"
   ]
  },
  {
   "cell_type": "code",
   "execution_count": 4,
   "metadata": {},
   "outputs": [
    {
     "data": {
      "text/html": [
       "<div>\n",
       "<style scoped>\n",
       "    .dataframe tbody tr th:only-of-type {\n",
       "        vertical-align: middle;\n",
       "    }\n",
       "\n",
       "    .dataframe tbody tr th {\n",
       "        vertical-align: top;\n",
       "    }\n",
       "\n",
       "    .dataframe thead th {\n",
       "        text-align: right;\n",
       "    }\n",
       "</style>\n",
       "<table border=\"1\" class=\"dataframe\">\n",
       "  <thead>\n",
       "    <tr style=\"text-align: right;\">\n",
       "      <th></th>\n",
       "      <th>raw_character_text</th>\n",
       "      <th>spoken_words</th>\n",
       "    </tr>\n",
       "  </thead>\n",
       "  <tbody>\n",
       "    <tr>\n",
       "      <th>0</th>\n",
       "      <td>Miss Hoover</td>\n",
       "      <td>No, actually, it was a little of both. Sometim...</td>\n",
       "    </tr>\n",
       "    <tr>\n",
       "      <th>1</th>\n",
       "      <td>Lisa Simpson</td>\n",
       "      <td>Where's Mr. Bergstrom?</td>\n",
       "    </tr>\n",
       "    <tr>\n",
       "      <th>2</th>\n",
       "      <td>Miss Hoover</td>\n",
       "      <td>I don't know. Although I'd sure like to talk t...</td>\n",
       "    </tr>\n",
       "    <tr>\n",
       "      <th>3</th>\n",
       "      <td>Lisa Simpson</td>\n",
       "      <td>That life is worth living.</td>\n",
       "    </tr>\n",
       "    <tr>\n",
       "      <th>4</th>\n",
       "      <td>Edna Krabappel-Flanders</td>\n",
       "      <td>The polls will be open from now until the end ...</td>\n",
       "    </tr>\n",
       "    <tr>\n",
       "      <th>5</th>\n",
       "      <td>Martin Prince</td>\n",
       "      <td>I don't think there's anything left to say.</td>\n",
       "    </tr>\n",
       "    <tr>\n",
       "      <th>6</th>\n",
       "      <td>Edna Krabappel-Flanders</td>\n",
       "      <td>Bart?</td>\n",
       "    </tr>\n",
       "    <tr>\n",
       "      <th>7</th>\n",
       "      <td>Bart Simpson</td>\n",
       "      <td>Victory party under the slide!</td>\n",
       "    </tr>\n",
       "    <tr>\n",
       "      <th>8</th>\n",
       "      <td>NaN</td>\n",
       "      <td>NaN</td>\n",
       "    </tr>\n",
       "    <tr>\n",
       "      <th>9</th>\n",
       "      <td>Lisa Simpson</td>\n",
       "      <td>Mr. Bergstrom! Mr. Bergstrom!</td>\n",
       "    </tr>\n",
       "    <tr>\n",
       "      <th>10</th>\n",
       "      <td>Landlady</td>\n",
       "      <td>Hey, hey, he Moved out this morning. He must h...</td>\n",
       "    </tr>\n",
       "    <tr>\n",
       "      <th>11</th>\n",
       "      <td>Lisa Simpson</td>\n",
       "      <td>Do you know where I could find him?</td>\n",
       "    </tr>\n",
       "    <tr>\n",
       "      <th>12</th>\n",
       "      <td>Landlady</td>\n",
       "      <td>I think he's taking the next train to Capital ...</td>\n",
       "    </tr>\n",
       "    <tr>\n",
       "      <th>13</th>\n",
       "      <td>Lisa Simpson</td>\n",
       "      <td>The train, how like him... traditional, yet en...</td>\n",
       "    </tr>\n",
       "    <tr>\n",
       "      <th>14</th>\n",
       "      <td>Landlady</td>\n",
       "      <td>Yes, and it's been the backbone of our country...</td>\n",
       "    </tr>\n",
       "    <tr>\n",
       "      <th>15</th>\n",
       "      <td>Lisa Simpson</td>\n",
       "      <td>I see he touched you, too.</td>\n",
       "    </tr>\n",
       "    <tr>\n",
       "      <th>16</th>\n",
       "      <td>NaN</td>\n",
       "      <td>NaN</td>\n",
       "    </tr>\n",
       "    <tr>\n",
       "      <th>17</th>\n",
       "      <td>Bart Simpson</td>\n",
       "      <td>Hey, thanks for your vote, man.</td>\n",
       "    </tr>\n",
       "    <tr>\n",
       "      <th>18</th>\n",
       "      <td>Nelson Muntz</td>\n",
       "      <td>I didn't vote. Voting's for geeks.</td>\n",
       "    </tr>\n",
       "    <tr>\n",
       "      <th>19</th>\n",
       "      <td>Bart Simpson</td>\n",
       "      <td>Well, you got that right. Thanks for your vote...</td>\n",
       "    </tr>\n",
       "    <tr>\n",
       "      <th>20</th>\n",
       "      <td>Terri/sherri</td>\n",
       "      <td>We forgot.</td>\n",
       "    </tr>\n",
       "    <tr>\n",
       "      <th>21</th>\n",
       "      <td>Bart Simpson</td>\n",
       "      <td>Well, don't sweat it. Just so long as a couple...</td>\n",
       "    </tr>\n",
       "    <tr>\n",
       "      <th>22</th>\n",
       "      <td>Milhouse Van Houten</td>\n",
       "      <td>Uh oh.</td>\n",
       "    </tr>\n",
       "    <tr>\n",
       "      <th>23</th>\n",
       "      <td>Bart Simpson</td>\n",
       "      <td>Lewis?</td>\n",
       "    </tr>\n",
       "    <tr>\n",
       "      <th>24</th>\n",
       "      <td>Bart Simpson</td>\n",
       "      <td>Somebody must have voted.</td>\n",
       "    </tr>\n",
       "    <tr>\n",
       "      <th>25</th>\n",
       "      <td>Milhouse Van Houten</td>\n",
       "      <td>What about you, Bart? Didn't you vote?</td>\n",
       "    </tr>\n",
       "    <tr>\n",
       "      <th>26</th>\n",
       "      <td>Bart Simpson</td>\n",
       "      <td>Uh oh.</td>\n",
       "    </tr>\n",
       "    <tr>\n",
       "      <th>27</th>\n",
       "      <td>Bart Simpson</td>\n",
       "      <td>NaN</td>\n",
       "    </tr>\n",
       "    <tr>\n",
       "      <th>28</th>\n",
       "      <td>Wendell Borton</td>\n",
       "      <td>Yayyyyyyyyyyyyyy!</td>\n",
       "    </tr>\n",
       "    <tr>\n",
       "      <th>29</th>\n",
       "      <td>NaN</td>\n",
       "      <td>NaN</td>\n",
       "    </tr>\n",
       "  </tbody>\n",
       "</table>\n",
       "</div>"
      ],
      "text/plain": [
       "         raw_character_text                                       spoken_words\n",
       "0               Miss Hoover  No, actually, it was a little of both. Sometim...\n",
       "1              Lisa Simpson                             Where's Mr. Bergstrom?\n",
       "2               Miss Hoover  I don't know. Although I'd sure like to talk t...\n",
       "3              Lisa Simpson                         That life is worth living.\n",
       "4   Edna Krabappel-Flanders  The polls will be open from now until the end ...\n",
       "5             Martin Prince        I don't think there's anything left to say.\n",
       "6   Edna Krabappel-Flanders                                              Bart?\n",
       "7              Bart Simpson                     Victory party under the slide!\n",
       "8                       NaN                                                NaN\n",
       "9              Lisa Simpson                      Mr. Bergstrom! Mr. Bergstrom!\n",
       "10                 Landlady  Hey, hey, he Moved out this morning. He must h...\n",
       "11             Lisa Simpson                Do you know where I could find him?\n",
       "12                 Landlady  I think he's taking the next train to Capital ...\n",
       "13             Lisa Simpson  The train, how like him... traditional, yet en...\n",
       "14                 Landlady  Yes, and it's been the backbone of our country...\n",
       "15             Lisa Simpson                         I see he touched you, too.\n",
       "16                      NaN                                                NaN\n",
       "17             Bart Simpson                    Hey, thanks for your vote, man.\n",
       "18             Nelson Muntz                 I didn't vote. Voting's for geeks.\n",
       "19             Bart Simpson  Well, you got that right. Thanks for your vote...\n",
       "20             Terri/sherri                                         We forgot.\n",
       "21             Bart Simpson  Well, don't sweat it. Just so long as a couple...\n",
       "22      Milhouse Van Houten                                             Uh oh.\n",
       "23             Bart Simpson                                             Lewis?\n",
       "24             Bart Simpson                          Somebody must have voted.\n",
       "25      Milhouse Van Houten             What about you, Bart? Didn't you vote?\n",
       "26             Bart Simpson                                             Uh oh.\n",
       "27             Bart Simpson                                                NaN\n",
       "28           Wendell Borton                                  Yayyyyyyyyyyyyyy!\n",
       "29                      NaN                                                NaN"
      ]
     },
     "execution_count": 4,
     "metadata": {},
     "output_type": "execute_result"
    }
   ],
   "source": [
    "df[:30]"
   ]
  },
  {
   "cell_type": "code",
   "execution_count": 5,
   "metadata": {},
   "outputs": [
    {
     "data": {
      "text/plain": [
       "raw_character_text    17814\n",
       "spoken_words          26459\n",
       "dtype: int64"
      ]
     },
     "execution_count": 5,
     "metadata": {},
     "output_type": "execute_result"
    }
   ],
   "source": [
    "df.isnull().sum()"
   ]
  },
  {
   "cell_type": "code",
   "execution_count": 6,
   "metadata": {},
   "outputs": [
    {
     "name": "stdout",
     "output_type": "stream",
     "text": [
      "df[:30] =          raw_character_text                                       spoken_words\n",
      "0               Miss Hoover  No, actually, it was a little of both. Sometim...\n",
      "1              Lisa Simpson                             Where's Mr. Bergstrom?\n",
      "2               Miss Hoover  I don't know. Although I'd sure like to talk t...\n",
      "3              Lisa Simpson                         That life is worth living.\n",
      "4   Edna Krabappel-Flanders  The polls will be open from now until the end ...\n",
      "5             Martin Prince        I don't think there's anything left to say.\n",
      "6   Edna Krabappel-Flanders                                              Bart?\n",
      "7              Bart Simpson                     Victory party under the slide!\n",
      "8                       NaN                                                NaN\n",
      "9              Lisa Simpson                      Mr. Bergstrom! Mr. Bergstrom!\n",
      "10                 Landlady  Hey, hey, he Moved out this morning. He must h...\n",
      "11             Lisa Simpson                Do you know where I could find him?\n",
      "12                 Landlady  I think he's taking the next train to Capital ...\n",
      "13             Lisa Simpson  The train, how like him... traditional, yet en...\n",
      "14                 Landlady  Yes, and it's been the backbone of our country...\n",
      "15             Lisa Simpson                         I see he touched you, too.\n",
      "16                      NaN                                                NaN\n",
      "17             Bart Simpson                    Hey, thanks for your vote, man.\n",
      "18             Nelson Muntz                 I didn't vote. Voting's for geeks.\n",
      "19             Bart Simpson  Well, you got that right. Thanks for your vote...\n",
      "20             Terri/sherri                                         We forgot.\n",
      "21             Bart Simpson  Well, don't sweat it. Just so long as a couple...\n",
      "22      Milhouse Van Houten                                             Uh oh.\n",
      "23             Bart Simpson                                             Lewis?\n",
      "24             Bart Simpson                          Somebody must have voted.\n",
      "25      Milhouse Van Houten             What about you, Bart? Didn't you vote?\n",
      "26             Bart Simpson                                             Uh oh.\n",
      "27             Bart Simpson                                                NaN\n",
      "28           Wendell Borton                                  Yayyyyyyyyyyyyyy!\n",
      "29                      NaN                                                NaN\n",
      "df[:30] =          raw_character_text                                       spoken_words\n",
      "0               Miss Hoover  No, actually, it was a little of both. Sometim...\n",
      "1              Lisa Simpson                             Where's Mr. Bergstrom?\n",
      "2               Miss Hoover  I don't know. Although I'd sure like to talk t...\n",
      "3              Lisa Simpson                         That life is worth living.\n",
      "4   Edna Krabappel-Flanders  The polls will be open from now until the end ...\n",
      "5             Martin Prince        I don't think there's anything left to say.\n",
      "6   Edna Krabappel-Flanders                                              Bart?\n",
      "7              Bart Simpson                     Victory party under the slide!\n",
      "8              Lisa Simpson                      Mr. Bergstrom! Mr. Bergstrom!\n",
      "9                  Landlady  Hey, hey, he Moved out this morning. He must h...\n",
      "10             Lisa Simpson                Do you know where I could find him?\n",
      "11                 Landlady  I think he's taking the next train to Capital ...\n",
      "12             Lisa Simpson  The train, how like him... traditional, yet en...\n",
      "13                 Landlady  Yes, and it's been the backbone of our country...\n",
      "14             Lisa Simpson                         I see he touched you, too.\n",
      "15             Bart Simpson                    Hey, thanks for your vote, man.\n",
      "16             Nelson Muntz                 I didn't vote. Voting's for geeks.\n",
      "17             Bart Simpson  Well, you got that right. Thanks for your vote...\n",
      "18             Terri/sherri                                         We forgot.\n",
      "19             Bart Simpson  Well, don't sweat it. Just so long as a couple...\n",
      "20      Milhouse Van Houten                                             Uh oh.\n",
      "21             Bart Simpson                                             Lewis?\n",
      "22             Bart Simpson                          Somebody must have voted.\n",
      "23      Milhouse Van Houten             What about you, Bart? Didn't you vote?\n",
      "24             Bart Simpson                                             Uh oh.\n",
      "25           Wendell Borton                                  Yayyyyyyyyyyyyyy!\n",
      "26             Bart Simpson                                I demand a recount.\n",
      "27  Edna Krabappel-Flanders  One for Martin, two for Martin. Would you like...\n",
      "28             Bart Simpson                                                No.\n",
      "29  Edna Krabappel-Flanders  Well, I just want to make sure. One for Martin...\n"
     ]
    }
   ],
   "source": [
    "print(f'df[:30] = {df[:30]}')\n",
    "df = df.dropna().reset_index(drop=True)\n",
    "df.isnull().sum()\n",
    "print(f'df[:30] = {df[:30]}')"
   ]
  },
  {
   "cell_type": "code",
   "execution_count": 7,
   "metadata": {},
   "outputs": [],
   "source": [
    "nlp = spacy.load('en', disable=['ner', 'parser']) # disabling Named Entity Recognition for speed\n",
    "\n",
    "# Fixed problem with 'en'.   Anaconda Powershell has an admin option upon right click\n",
    "# Helpful SO answer: \n",
    "# https://stackoverflow.com/questions/54334304\n",
    "# /spacy-cant-find-model-en-core-web-sm-on-windows-10-and-python-3-5-3-anacon\n",
    "# python -m spacy download en \n",
    "\n",
    "def cleaning(doc):\n",
    "    # Lemmatizes and removes stopwords\n",
    "    # doc needs to be a spacy Doc object\n",
    "    txt = [token.lemma_ for token in doc if not token.is_stop]\n",
    "    # Word2Vec uses context words to learn the vector representation of a target word,\n",
    "    # if a sentence is only one or two words long,\n",
    "    # the benefit for the training is very small\n",
    "    if len(txt) > 2:\n",
    "        return ' '.join(txt)"
   ]
  },
  {
   "cell_type": "code",
   "execution_count": 8,
   "metadata": {},
   "outputs": [],
   "source": [
    "brief_cleaning = (re.sub(\"[^A-Za-z']+\", ' ', str(row)).lower() for row in df['spoken_words'])"
   ]
  },
  {
   "cell_type": "code",
   "execution_count": 9,
   "metadata": {},
   "outputs": [
    {
     "name": "stdout",
     "output_type": "stream",
     "text": [
      "Time to clean up everything: 0.94 mins\n"
     ]
    }
   ],
   "source": [
    "t = time()\n",
    "\n",
    "txt = [cleaning(doc) for doc in nlp.pipe(brief_cleaning, batch_size=5000, n_threads=-1)]\n",
    "\n",
    "print('Time to clean up everything: {} mins'.format(round((time() - t) / 60, 2)))"
   ]
  },
  {
   "cell_type": "code",
   "execution_count": 10,
   "metadata": {},
   "outputs": [
    {
     "name": "stdout",
     "output_type": "stream",
     "text": [
      "                                                clean\n",
      "0   actually little disease magazine news show be ...\n",
      "1                                     be mr bergstrom\n",
      "2   not know would sure like talk not touch lesson...\n",
      "3                                     life worth live\n",
      "4   poll open end recess case decide thought will ...\n",
      "5                                  not think be leave\n",
      "6                                                None\n",
      "7                                 victory party slide\n",
      "8                           mr bergstrom mr bergstrom\n",
      "9   hey hey move morning new job take copernicus c...\n",
      "10                                               None\n",
      "11                   think be take train capital city\n",
      "12       train like traditional environmentally sound\n",
      "13  yes be backbone country leland stanford drive ...\n",
      "14                                               None\n",
      "15                                 hey thank vote man\n",
      "16                            not vote voting 's geek\n",
      "17                          get right thank vote girl\n",
      "18                                               None\n",
      "19        not sweat long couple people right milhouse\n",
      "20                                               None\n",
      "21                                               None\n",
      "22                                               None\n",
      "23                                      bart not vote\n",
      "24                                               None\n",
      "25                                               None\n",
      "26                                               None\n",
      "27                         martin martin like recount\n",
      "28                                               None\n",
      "29                            want sure martin martin\n"
     ]
    },
    {
     "data": {
      "text/html": [
       "<div>\n",
       "<style scoped>\n",
       "    .dataframe tbody tr th:only-of-type {\n",
       "        vertical-align: middle;\n",
       "    }\n",
       "\n",
       "    .dataframe tbody tr th {\n",
       "        vertical-align: top;\n",
       "    }\n",
       "\n",
       "    .dataframe thead th {\n",
       "        text-align: right;\n",
       "    }\n",
       "</style>\n",
       "<table border=\"1\" class=\"dataframe\">\n",
       "  <thead>\n",
       "    <tr style=\"text-align: right;\">\n",
       "      <th></th>\n",
       "      <th>clean</th>\n",
       "    </tr>\n",
       "  </thead>\n",
       "  <tbody>\n",
       "    <tr>\n",
       "      <th>0</th>\n",
       "      <td>actually little disease magazine news show be ...</td>\n",
       "    </tr>\n",
       "    <tr>\n",
       "      <th>1</th>\n",
       "      <td>be mr bergstrom</td>\n",
       "    </tr>\n",
       "    <tr>\n",
       "      <th>2</th>\n",
       "      <td>not know would sure like talk not touch lesson...</td>\n",
       "    </tr>\n",
       "    <tr>\n",
       "      <th>3</th>\n",
       "      <td>life worth live</td>\n",
       "    </tr>\n",
       "    <tr>\n",
       "      <th>4</th>\n",
       "      <td>poll open end recess case decide thought will ...</td>\n",
       "    </tr>\n",
       "    <tr>\n",
       "      <th>5</th>\n",
       "      <td>not think be leave</td>\n",
       "    </tr>\n",
       "    <tr>\n",
       "      <th>7</th>\n",
       "      <td>victory party slide</td>\n",
       "    </tr>\n",
       "    <tr>\n",
       "      <th>8</th>\n",
       "      <td>mr bergstrom mr bergstrom</td>\n",
       "    </tr>\n",
       "    <tr>\n",
       "      <th>9</th>\n",
       "      <td>hey hey move morning new job take copernicus c...</td>\n",
       "    </tr>\n",
       "    <tr>\n",
       "      <th>11</th>\n",
       "      <td>think be take train capital city</td>\n",
       "    </tr>\n",
       "    <tr>\n",
       "      <th>12</th>\n",
       "      <td>train like traditional environmentally sound</td>\n",
       "    </tr>\n",
       "    <tr>\n",
       "      <th>13</th>\n",
       "      <td>yes be backbone country leland stanford drive ...</td>\n",
       "    </tr>\n",
       "    <tr>\n",
       "      <th>15</th>\n",
       "      <td>hey thank vote man</td>\n",
       "    </tr>\n",
       "    <tr>\n",
       "      <th>16</th>\n",
       "      <td>not vote voting 's geek</td>\n",
       "    </tr>\n",
       "    <tr>\n",
       "      <th>17</th>\n",
       "      <td>get right thank vote girl</td>\n",
       "    </tr>\n",
       "    <tr>\n",
       "      <th>19</th>\n",
       "      <td>not sweat long couple people right milhouse</td>\n",
       "    </tr>\n",
       "    <tr>\n",
       "      <th>23</th>\n",
       "      <td>bart not vote</td>\n",
       "    </tr>\n",
       "    <tr>\n",
       "      <th>27</th>\n",
       "      <td>martin martin like recount</td>\n",
       "    </tr>\n",
       "    <tr>\n",
       "      <th>29</th>\n",
       "      <td>want sure martin martin</td>\n",
       "    </tr>\n",
       "    <tr>\n",
       "      <th>30</th>\n",
       "      <td>way mister president</td>\n",
       "    </tr>\n",
       "    <tr>\n",
       "      <th>31</th>\n",
       "      <td>board track afternoon delight come shelbyville...</td>\n",
       "    </tr>\n",
       "    <tr>\n",
       "      <th>32</th>\n",
       "      <td>mr bergstrom hey mr bergstrom</td>\n",
       "    </tr>\n",
       "    <tr>\n",
       "      <th>36</th>\n",
       "      <td>oh mean go leave like</td>\n",
       "    </tr>\n",
       "    <tr>\n",
       "      <th>37</th>\n",
       "      <td>ah be sorry lisa know be life substitute teach...</td>\n",
       "    </tr>\n",
       "    <tr>\n",
       "      <th>38</th>\n",
       "      <td>not be good teacher will</td>\n",
       "    </tr>\n",
       "    <tr>\n",
       "      <th>39</th>\n",
       "      <td>ah be true teacher come</td>\n",
       "    </tr>\n",
       "    <tr>\n",
       "      <th>41</th>\n",
       "      <td>not lie good know need project capital city</td>\n",
       "    </tr>\n",
       "    <tr>\n",
       "      <th>43</th>\n",
       "      <td>be problem middle class anybody care abandon need</td>\n",
       "    </tr>\n",
       "    <tr>\n",
       "      <th>44</th>\n",
       "      <td>understand mr bergstrom be go miss</td>\n",
       "    </tr>\n",
       "    <tr>\n",
       "      <th>46</th>\n",
       "      <td>feel like be be rely need know</td>\n",
       "    </tr>\n",
       "  </tbody>\n",
       "</table>\n",
       "</div>"
      ],
      "text/plain": [
       "                                                clean\n",
       "0   actually little disease magazine news show be ...\n",
       "1                                     be mr bergstrom\n",
       "2   not know would sure like talk not touch lesson...\n",
       "3                                     life worth live\n",
       "4   poll open end recess case decide thought will ...\n",
       "5                                  not think be leave\n",
       "7                                 victory party slide\n",
       "8                           mr bergstrom mr bergstrom\n",
       "9   hey hey move morning new job take copernicus c...\n",
       "11                   think be take train capital city\n",
       "12       train like traditional environmentally sound\n",
       "13  yes be backbone country leland stanford drive ...\n",
       "15                                 hey thank vote man\n",
       "16                            not vote voting 's geek\n",
       "17                          get right thank vote girl\n",
       "19        not sweat long couple people right milhouse\n",
       "23                                      bart not vote\n",
       "27                         martin martin like recount\n",
       "29                            want sure martin martin\n",
       "30                               way mister president\n",
       "31  board track afternoon delight come shelbyville...\n",
       "32                      mr bergstrom hey mr bergstrom\n",
       "36                              oh mean go leave like\n",
       "37  ah be sorry lisa know be life substitute teach...\n",
       "38                           not be good teacher will\n",
       "39                            ah be true teacher come\n",
       "41        not lie good know need project capital city\n",
       "43  be problem middle class anybody care abandon need\n",
       "44                 understand mr bergstrom be go miss\n",
       "46                     feel like be be rely need know"
      ]
     },
     "execution_count": 10,
     "metadata": {},
     "output_type": "execute_result"
    }
   ],
   "source": [
    "df_clean = pd.DataFrame({'clean': txt})\n",
    "print(df_clean[:30])\n",
    "df_clean = df_clean.dropna().drop_duplicates()\n",
    "df_clean.shape\n",
    "df_clean[:30]"
   ]
  },
  {
   "cell_type": "code",
   "execution_count": 11,
   "metadata": {},
   "outputs": [],
   "source": [
    "#  Pick up at Bigrams: https://www.kaggle.com/pierremegret/gensim-word2vec-tutorial/notebook?scriptVersionId=6660075&cellId=23\n",
    "\n",
    "from gensim.models.phrases import Phrases, Phraser"
   ]
  },
  {
   "cell_type": "code",
   "execution_count": 12,
   "metadata": {},
   "outputs": [],
   "source": [
    "sent = [row.split() for row in df_clean['clean']]"
   ]
  },
  {
   "cell_type": "code",
   "execution_count": 13,
   "metadata": {},
   "outputs": [
    {
     "name": "stderr",
     "output_type": "stream",
     "text": [
      "INFO - 15:30:25: collecting all words and their counts\n",
      "INFO - 15:30:25: PROGRESS: at sentence #0, processed 0 words and 0 word types\n",
      "INFO - 15:30:25: PROGRESS: at sentence #10000, processed 67396 words and 50551 word types\n",
      "INFO - 15:30:25: PROGRESS: at sentence #20000, processed 140465 words and 95808 word types\n",
      "INFO - 15:30:25: PROGRESS: at sentence #30000, processed 207950 words and 132011 word types\n",
      "INFO - 15:30:25: PROGRESS: at sentence #40000, processed 270207 words and 164407 word types\n",
      "INFO - 15:30:25: PROGRESS: at sentence #50000, processed 334085 words and 196195 word types\n",
      "INFO - 15:30:25: PROGRESS: at sentence #60000, processed 400877 words and 228659 word types\n",
      "INFO - 15:30:25: PROGRESS: at sentence #70000, processed 467802 words and 260712 word types\n",
      "INFO - 15:30:26: PROGRESS: at sentence #80000, processed 534361 words and 292095 word types\n",
      "INFO - 15:30:26: PROGRESS: at sentence #90000, processed 602037 words and 321944 word types\n",
      "INFO - 15:30:26: collected 328658 token types (unigram + bigrams) from a corpus of 618920 words and 92412 sentences\n",
      "INFO - 15:30:26: merged Phrases<328658 vocab, min_count=30, threshold=10.0, max_vocab_size=40000000>\n",
      "INFO - 15:30:26: Phrases lifecycle event {'msg': 'built Phrases<328658 vocab, min_count=30, threshold=10.0, max_vocab_size=40000000> in 0.61s', 'datetime': '2021-06-20T15:30:26.156461', 'gensim': '4.0.1', 'python': '3.7.4 (default, Aug  9 2019, 18:34:13) [MSC v.1915 64 bit (AMD64)]', 'platform': 'Windows-10-10.0.19041-SP0', 'event': 'created'}\n"
     ]
    }
   ],
   "source": [
    "phrases = Phrases(sent, min_count=30, progress_per=10000)"
   ]
  },
  {
   "cell_type": "code",
   "execution_count": 14,
   "metadata": {},
   "outputs": [
    {
     "name": "stderr",
     "output_type": "stream",
     "text": [
      "INFO - 15:30:26: exporting phrases from Phrases<328658 vocab, min_count=30, threshold=10.0, max_vocab_size=40000000>\n",
      "INFO - 15:30:26: FrozenPhrases lifecycle event {'msg': 'exported FrozenPhrases<127 phrases, min_count=30, threshold=10.0> from Phrases<328658 vocab, min_count=30, threshold=10.0, max_vocab_size=40000000> in 0.51s', 'datetime': '2021-06-20T15:30:26.684905', 'gensim': '4.0.1', 'python': '3.7.4 (default, Aug  9 2019, 18:34:13) [MSC v.1915 64 bit (AMD64)]', 'platform': 'Windows-10-10.0.19041-SP0', 'event': 'created'}\n"
     ]
    }
   ],
   "source": [
    "bigram = Phraser(phrases)"
   ]
  },
  {
   "cell_type": "code",
   "execution_count": 15,
   "metadata": {},
   "outputs": [],
   "source": [
    "sentences = bigram[sent]\n"
   ]
  },
  {
   "cell_type": "code",
   "execution_count": 16,
   "metadata": {},
   "outputs": [
    {
     "data": {
      "text/plain": [
       "29673"
      ]
     },
     "execution_count": 16,
     "metadata": {},
     "output_type": "execute_result"
    }
   ],
   "source": [
    "word_freq = defaultdict(int)\n",
    "for sent in sentences:\n",
    "    for i in sent:\n",
    "        word_freq[i] += 1\n",
    "len(word_freq)"
   ]
  },
  {
   "cell_type": "code",
   "execution_count": 17,
   "metadata": {},
   "outputs": [
    {
     "data": {
      "text/plain": [
       "['be', 'not', 'oh', 'will', 'like', \"'s\", 'know', 'think', 'hey', 'good']"
      ]
     },
     "execution_count": 17,
     "metadata": {},
     "output_type": "execute_result"
    }
   ],
   "source": [
    "sorted(word_freq, key=word_freq.get, reverse=True)[:10]"
   ]
  },
  {
   "cell_type": "code",
   "execution_count": 18,
   "metadata": {},
   "outputs": [],
   "source": [
    "import multiprocessing\n",
    "\n",
    "from gensim.models import Word2Vec"
   ]
  },
  {
   "cell_type": "code",
   "execution_count": 19,
   "metadata": {},
   "outputs": [
    {
     "name": "stdout",
     "output_type": "stream",
     "text": [
      "8\n"
     ]
    }
   ],
   "source": [
    "cores = multiprocessing.cpu_count() # Count the number of cores in a computer\n",
    "print(cores)"
   ]
  },
  {
   "cell_type": "code",
   "execution_count": 20,
   "metadata": {},
   "outputs": [
    {
     "name": "stderr",
     "output_type": "stream",
     "text": [
      "INFO - 15:30:27: Word2Vec lifecycle event {'params': 'Word2Vec(vocab=0, vector_size=300, alpha=0.03)', 'datetime': '2021-06-20T15:30:27.370040', 'gensim': '4.0.1', 'python': '3.7.4 (default, Aug  9 2019, 18:34:13) [MSC v.1915 64 bit (AMD64)]', 'platform': 'Windows-10-10.0.19041-SP0', 'event': 'created'}\n"
     ]
    }
   ],
   "source": [
    "w2v_model = Word2Vec(min_count=20,\n",
    "                     window=2,\n",
    "                     vector_size=300, # key word has change from size to vector_size\n",
    "                     sample=6e-5, \n",
    "                     alpha=0.03, \n",
    "                     min_alpha=0.0007, \n",
    "                     negative=20,\n",
    "                     workers=cores-1)"
   ]
  },
  {
   "cell_type": "code",
   "execution_count": 21,
   "metadata": {},
   "outputs": [
    {
     "name": "stderr",
     "output_type": "stream",
     "text": [
      "INFO - 15:30:27: collecting all words and their counts\n",
      "INFO - 15:30:27: PROGRESS: at sentence #0, processed 0 words, keeping 0 word types\n",
      "INFO - 15:30:27: PROGRESS: at sentence #10000, processed 65193 words, keeping 9096 word types\n",
      "INFO - 15:30:27: PROGRESS: at sentence #20000, processed 136024 words, keeping 13916 word types\n",
      "INFO - 15:30:27: PROGRESS: at sentence #30000, processed 201577 words, keeping 16865 word types\n",
      "INFO - 15:30:27: PROGRESS: at sentence #40000, processed 262082 words, keeping 19506 word types\n",
      "INFO - 15:30:27: PROGRESS: at sentence #50000, processed 324069 words, keeping 21758 word types\n",
      "INFO - 15:30:27: PROGRESS: at sentence #60000, processed 388895 words, keeping 23910 word types\n",
      "INFO - 15:30:27: PROGRESS: at sentence #70000, processed 454042 words, keeping 25876 word types\n",
      "INFO - 15:30:27: PROGRESS: at sentence #80000, processed 518929 words, keeping 27769 word types\n",
      "INFO - 15:30:28: PROGRESS: at sentence #90000, processed 584755 words, keeping 29345 word types\n",
      "INFO - 15:30:28: collected 29673 word types from a corpus of 601119 raw words and 92412 sentences\n",
      "INFO - 15:30:28: Creating a fresh vocabulary\n",
      "INFO - 15:30:28: Word2Vec lifecycle event {'msg': 'effective_min_count=20 retains 3375 unique words (11.373976342129207%% of original 29673, drops 26298)', 'datetime': '2021-06-20T15:30:28.065831', 'gensim': '4.0.1', 'python': '3.7.4 (default, Aug  9 2019, 18:34:13) [MSC v.1915 64 bit (AMD64)]', 'platform': 'Windows-10-10.0.19041-SP0', 'event': 'prepare_vocab'}\n",
      "INFO - 15:30:28: Word2Vec lifecycle event {'msg': 'effective_min_count=20 leaves 515089 word corpus (85.68835787922191%% of original 601119, drops 86030)', 'datetime': '2021-06-20T15:30:28.066758', 'gensim': '4.0.1', 'python': '3.7.4 (default, Aug  9 2019, 18:34:13) [MSC v.1915 64 bit (AMD64)]', 'platform': 'Windows-10-10.0.19041-SP0', 'event': 'prepare_vocab'}\n",
      "INFO - 15:30:28: deleting the raw counts dictionary of 29673 items\n",
      "INFO - 15:30:28: sample=6e-05 downsamples 1080 most-common words\n",
      "INFO - 15:30:28: Word2Vec lifecycle event {'msg': 'downsampling leaves estimated 219321.7062743488 word corpus (42.6%% of prior 515089)', 'datetime': '2021-06-20T15:30:28.091759', 'gensim': '4.0.1', 'python': '3.7.4 (default, Aug  9 2019, 18:34:13) [MSC v.1915 64 bit (AMD64)]', 'platform': 'Windows-10-10.0.19041-SP0', 'event': 'prepare_vocab'}\n",
      "INFO - 15:30:28: estimated required memory for 3375 words and 300 dimensions: 9787500 bytes\n",
      "INFO - 15:30:28: resetting layer weights\n",
      "INFO - 15:30:28: Word2Vec lifecycle event {'update': False, 'trim_rule': 'None', 'datetime': '2021-06-20T15:30:28.134812', 'gensim': '4.0.1', 'python': '3.7.4 (default, Aug  9 2019, 18:34:13) [MSC v.1915 64 bit (AMD64)]', 'platform': 'Windows-10-10.0.19041-SP0', 'event': 'build_vocab'}\n"
     ]
    },
    {
     "name": "stdout",
     "output_type": "stream",
     "text": [
      "Time to build vocab: 0.01 mins\n"
     ]
    }
   ],
   "source": [
    "t = time()\n",
    "\n",
    "w2v_model.build_vocab(sentences, progress_per=10000)\n",
    "\n",
    "print('Time to build vocab: {} mins'.format(round((time() - t) / 60, 2)))"
   ]
  },
  {
   "cell_type": "code",
   "execution_count": 22,
   "metadata": {},
   "outputs": [
    {
     "name": "stderr",
     "output_type": "stream",
     "text": [
      "INFO - 15:30:28: Word2Vec lifecycle event {'msg': 'training model with 7 workers on 3375 vocabulary and 300 features, using sg=0 hs=0 sample=6e-05 negative=20 window=2', 'datetime': '2021-06-20T15:30:28.143793', 'gensim': '4.0.1', 'python': '3.7.4 (default, Aug  9 2019, 18:34:13) [MSC v.1915 64 bit (AMD64)]', 'platform': 'Windows-10-10.0.19041-SP0', 'event': 'train'}\n",
      "INFO - 15:30:28: worker thread finished; awaiting finish of 6 more threads\n",
      "INFO - 15:30:28: worker thread finished; awaiting finish of 5 more threads\n",
      "INFO - 15:30:28: worker thread finished; awaiting finish of 4 more threads\n",
      "INFO - 15:30:28: worker thread finished; awaiting finish of 3 more threads\n",
      "INFO - 15:30:28: worker thread finished; awaiting finish of 2 more threads\n",
      "INFO - 15:30:28: worker thread finished; awaiting finish of 1 more threads\n",
      "INFO - 15:30:28: worker thread finished; awaiting finish of 0 more threads\n",
      "INFO - 15:30:28: EPOCH - 1 : training on 601119 raw words (219268 effective words) took 0.8s, 267287 effective words/s\n",
      "INFO - 15:30:29: worker thread finished; awaiting finish of 6 more threads\n",
      "INFO - 15:30:29: worker thread finished; awaiting finish of 5 more threads\n",
      "INFO - 15:30:29: worker thread finished; awaiting finish of 4 more threads\n",
      "INFO - 15:30:29: worker thread finished; awaiting finish of 3 more threads\n",
      "INFO - 15:30:29: worker thread finished; awaiting finish of 2 more threads\n",
      "INFO - 15:30:29: worker thread finished; awaiting finish of 1 more threads\n",
      "INFO - 15:30:29: worker thread finished; awaiting finish of 0 more threads\n",
      "INFO - 15:30:29: EPOCH - 2 : training on 601119 raw words (219173 effective words) took 0.9s, 247950 effective words/s\n",
      "INFO - 15:30:30: worker thread finished; awaiting finish of 6 more threads\n",
      "INFO - 15:30:30: worker thread finished; awaiting finish of 5 more threads\n",
      "INFO - 15:30:30: worker thread finished; awaiting finish of 4 more threads\n",
      "INFO - 15:30:30: worker thread finished; awaiting finish of 3 more threads\n",
      "INFO - 15:30:30: worker thread finished; awaiting finish of 2 more threads\n",
      "INFO - 15:30:30: worker thread finished; awaiting finish of 1 more threads\n",
      "INFO - 15:30:30: worker thread finished; awaiting finish of 0 more threads\n",
      "INFO - 15:30:30: EPOCH - 3 : training on 601119 raw words (219450 effective words) took 0.8s, 258761 effective words/s\n",
      "INFO - 15:30:31: worker thread finished; awaiting finish of 6 more threads\n",
      "INFO - 15:30:31: worker thread finished; awaiting finish of 5 more threads\n",
      "INFO - 15:30:31: worker thread finished; awaiting finish of 4 more threads\n",
      "INFO - 15:30:31: worker thread finished; awaiting finish of 3 more threads\n",
      "INFO - 15:30:31: worker thread finished; awaiting finish of 2 more threads\n",
      "INFO - 15:30:31: worker thread finished; awaiting finish of 1 more threads\n",
      "INFO - 15:30:31: worker thread finished; awaiting finish of 0 more threads\n",
      "INFO - 15:30:31: EPOCH - 4 : training on 601119 raw words (219490 effective words) took 0.8s, 260468 effective words/s\n",
      "INFO - 15:30:32: worker thread finished; awaiting finish of 6 more threads\n",
      "INFO - 15:30:32: worker thread finished; awaiting finish of 5 more threads\n",
      "INFO - 15:30:32: worker thread finished; awaiting finish of 4 more threads\n",
      "INFO - 15:30:32: worker thread finished; awaiting finish of 3 more threads\n",
      "INFO - 15:30:32: worker thread finished; awaiting finish of 2 more threads\n",
      "INFO - 15:30:32: worker thread finished; awaiting finish of 1 more threads\n",
      "INFO - 15:30:32: worker thread finished; awaiting finish of 0 more threads\n",
      "INFO - 15:30:32: EPOCH - 5 : training on 601119 raw words (218872 effective words) took 0.9s, 257490 effective words/s\n",
      "INFO - 15:30:33: worker thread finished; awaiting finish of 6 more threads\n",
      "INFO - 15:30:33: worker thread finished; awaiting finish of 5 more threads\n",
      "INFO - 15:30:33: worker thread finished; awaiting finish of 4 more threads\n",
      "INFO - 15:30:33: worker thread finished; awaiting finish of 3 more threads\n",
      "INFO - 15:30:33: worker thread finished; awaiting finish of 2 more threads\n",
      "INFO - 15:30:33: worker thread finished; awaiting finish of 1 more threads\n",
      "INFO - 15:30:33: worker thread finished; awaiting finish of 0 more threads\n",
      "INFO - 15:30:33: EPOCH - 6 : training on 601119 raw words (219479 effective words) took 0.9s, 253765 effective words/s\n",
      "INFO - 15:30:34: worker thread finished; awaiting finish of 6 more threads\n",
      "INFO - 15:30:34: worker thread finished; awaiting finish of 5 more threads\n",
      "INFO - 15:30:34: worker thread finished; awaiting finish of 4 more threads\n",
      "INFO - 15:30:34: worker thread finished; awaiting finish of 3 more threads\n",
      "INFO - 15:30:34: worker thread finished; awaiting finish of 2 more threads\n",
      "INFO - 15:30:34: worker thread finished; awaiting finish of 1 more threads\n",
      "INFO - 15:30:34: worker thread finished; awaiting finish of 0 more threads\n",
      "INFO - 15:30:34: EPOCH - 7 : training on 601119 raw words (218790 effective words) took 0.8s, 262324 effective words/s\n",
      "INFO - 15:30:35: worker thread finished; awaiting finish of 6 more threads\n",
      "INFO - 15:30:35: worker thread finished; awaiting finish of 5 more threads\n",
      "INFO - 15:30:35: worker thread finished; awaiting finish of 4 more threads\n",
      "INFO - 15:30:35: worker thread finished; awaiting finish of 3 more threads\n",
      "INFO - 15:30:35: worker thread finished; awaiting finish of 2 more threads\n",
      "INFO - 15:30:35: worker thread finished; awaiting finish of 1 more threads\n",
      "INFO - 15:30:35: worker thread finished; awaiting finish of 0 more threads\n",
      "INFO - 15:30:35: EPOCH - 8 : training on 601119 raw words (219040 effective words) took 0.8s, 270343 effective words/s\n",
      "INFO - 15:30:35: worker thread finished; awaiting finish of 6 more threads\n",
      "INFO - 15:30:35: worker thread finished; awaiting finish of 5 more threads\n",
      "INFO - 15:30:35: worker thread finished; awaiting finish of 4 more threads\n",
      "INFO - 15:30:35: worker thread finished; awaiting finish of 3 more threads\n",
      "INFO - 15:30:35: worker thread finished; awaiting finish of 2 more threads\n",
      "INFO - 15:30:35: worker thread finished; awaiting finish of 1 more threads\n",
      "INFO - 15:30:35: worker thread finished; awaiting finish of 0 more threads\n",
      "INFO - 15:30:35: EPOCH - 9 : training on 601119 raw words (218783 effective words) took 0.7s, 301441 effective words/s\n",
      "INFO - 15:30:36: EPOCH 10 - PROGRESS: at 86.63% examples, 188538 words/s, in_qsize 8, out_qsize 1\n",
      "INFO - 15:30:36: worker thread finished; awaiting finish of 6 more threads\n",
      "INFO - 15:30:36: worker thread finished; awaiting finish of 5 more threads\n",
      "INFO - 15:30:36: worker thread finished; awaiting finish of 4 more threads\n",
      "INFO - 15:30:36: worker thread finished; awaiting finish of 3 more threads\n",
      "INFO - 15:30:36: worker thread finished; awaiting finish of 2 more threads\n",
      "INFO - 15:30:36: worker thread finished; awaiting finish of 1 more threads\n",
      "INFO - 15:30:36: worker thread finished; awaiting finish of 0 more threads\n",
      "INFO - 15:30:36: EPOCH - 10 : training on 601119 raw words (219478 effective words) took 1.0s, 210585 effective words/s\n",
      "INFO - 15:30:37: worker thread finished; awaiting finish of 6 more threads\n",
      "INFO - 15:30:37: worker thread finished; awaiting finish of 5 more threads\n",
      "INFO - 15:30:37: worker thread finished; awaiting finish of 4 more threads\n",
      "INFO - 15:30:37: worker thread finished; awaiting finish of 3 more threads\n",
      "INFO - 15:30:37: worker thread finished; awaiting finish of 2 more threads\n",
      "INFO - 15:30:37: worker thread finished; awaiting finish of 1 more threads\n",
      "INFO - 15:30:37: worker thread finished; awaiting finish of 0 more threads\n",
      "INFO - 15:30:37: EPOCH - 11 : training on 601119 raw words (219336 effective words) took 1.0s, 222256 effective words/s\n",
      "INFO - 15:30:38: EPOCH 12 - PROGRESS: at 71.73% examples, 152523 words/s, in_qsize 13, out_qsize 0\n",
      "INFO - 15:30:38: worker thread finished; awaiting finish of 6 more threads\n",
      "INFO - 15:30:38: worker thread finished; awaiting finish of 5 more threads\n",
      "INFO - 15:30:38: worker thread finished; awaiting finish of 4 more threads\n",
      "INFO - 15:30:38: worker thread finished; awaiting finish of 3 more threads\n",
      "INFO - 15:30:38: worker thread finished; awaiting finish of 2 more threads\n",
      "INFO - 15:30:38: worker thread finished; awaiting finish of 1 more threads\n",
      "INFO - 15:30:38: worker thread finished; awaiting finish of 0 more threads\n",
      "INFO - 15:30:38: EPOCH - 12 : training on 601119 raw words (219215 effective words) took 1.1s, 198223 effective words/s\n"
     ]
    },
    {
     "name": "stderr",
     "output_type": "stream",
     "text": [
      "INFO - 15:30:39: worker thread finished; awaiting finish of 6 more threads\n",
      "INFO - 15:30:39: worker thread finished; awaiting finish of 5 more threads\n",
      "INFO - 15:30:39: worker thread finished; awaiting finish of 4 more threads\n",
      "INFO - 15:30:39: worker thread finished; awaiting finish of 3 more threads\n",
      "INFO - 15:30:39: worker thread finished; awaiting finish of 2 more threads\n",
      "INFO - 15:30:39: worker thread finished; awaiting finish of 1 more threads\n",
      "INFO - 15:30:39: worker thread finished; awaiting finish of 0 more threads\n",
      "INFO - 15:30:39: EPOCH - 13 : training on 601119 raw words (218776 effective words) took 0.9s, 233085 effective words/s\n",
      "INFO - 15:30:40: worker thread finished; awaiting finish of 6 more threads\n",
      "INFO - 15:30:40: worker thread finished; awaiting finish of 5 more threads\n",
      "INFO - 15:30:40: EPOCH 14 - PROGRESS: at 93.60% examples, 203931 words/s, in_qsize 3, out_qsize 3\n",
      "INFO - 15:30:40: worker thread finished; awaiting finish of 4 more threads\n",
      "INFO - 15:30:40: worker thread finished; awaiting finish of 3 more threads\n",
      "INFO - 15:30:40: worker thread finished; awaiting finish of 2 more threads\n",
      "INFO - 15:30:41: worker thread finished; awaiting finish of 1 more threads\n",
      "INFO - 15:30:41: worker thread finished; awaiting finish of 0 more threads\n",
      "INFO - 15:30:41: EPOCH - 14 : training on 601119 raw words (218979 effective words) took 1.0s, 216112 effective words/s\n",
      "INFO - 15:30:42: EPOCH 15 - PROGRESS: at 70.09% examples, 151618 words/s, in_qsize 13, out_qsize 0\n",
      "INFO - 15:30:42: worker thread finished; awaiting finish of 6 more threads\n",
      "INFO - 15:30:42: worker thread finished; awaiting finish of 5 more threads\n",
      "INFO - 15:30:42: worker thread finished; awaiting finish of 4 more threads\n",
      "INFO - 15:30:42: worker thread finished; awaiting finish of 3 more threads\n",
      "INFO - 15:30:42: worker thread finished; awaiting finish of 2 more threads\n",
      "INFO - 15:30:42: worker thread finished; awaiting finish of 1 more threads\n",
      "INFO - 15:30:42: worker thread finished; awaiting finish of 0 more threads\n",
      "INFO - 15:30:42: EPOCH - 15 : training on 601119 raw words (219490 effective words) took 1.1s, 197466 effective words/s\n",
      "INFO - 15:30:43: EPOCH 16 - PROGRESS: at 90.09% examples, 196617 words/s, in_qsize 7, out_qsize 0\n",
      "INFO - 15:30:43: worker thread finished; awaiting finish of 6 more threads\n",
      "INFO - 15:30:43: worker thread finished; awaiting finish of 5 more threads\n",
      "INFO - 15:30:43: worker thread finished; awaiting finish of 4 more threads\n",
      "INFO - 15:30:43: worker thread finished; awaiting finish of 3 more threads\n",
      "INFO - 15:30:43: worker thread finished; awaiting finish of 2 more threads\n",
      "INFO - 15:30:43: worker thread finished; awaiting finish of 1 more threads\n",
      "INFO - 15:30:43: worker thread finished; awaiting finish of 0 more threads\n",
      "INFO - 15:30:43: EPOCH - 16 : training on 601119 raw words (219287 effective words) took 1.0s, 214760 effective words/s\n",
      "INFO - 15:30:44: worker thread finished; awaiting finish of 6 more threads\n",
      "INFO - 15:30:44: worker thread finished; awaiting finish of 5 more threads\n",
      "INFO - 15:30:44: worker thread finished; awaiting finish of 4 more threads\n",
      "INFO - 15:30:44: worker thread finished; awaiting finish of 3 more threads\n",
      "INFO - 15:30:44: worker thread finished; awaiting finish of 2 more threads\n",
      "INFO - 15:30:44: worker thread finished; awaiting finish of 1 more threads\n",
      "INFO - 15:30:44: EPOCH 17 - PROGRESS: at 100.00% examples, 218704 words/s, in_qsize 0, out_qsize 1\n",
      "INFO - 15:30:44: worker thread finished; awaiting finish of 0 more threads\n",
      "INFO - 15:30:44: EPOCH - 17 : training on 601119 raw words (219248 effective words) took 1.0s, 218296 effective words/s\n",
      "INFO - 15:30:45: worker thread finished; awaiting finish of 6 more threads\n",
      "INFO - 15:30:45: worker thread finished; awaiting finish of 5 more threads\n",
      "INFO - 15:30:45: worker thread finished; awaiting finish of 4 more threads\n",
      "INFO - 15:30:45: worker thread finished; awaiting finish of 3 more threads\n",
      "INFO - 15:30:45: worker thread finished; awaiting finish of 2 more threads\n",
      "INFO - 15:30:45: worker thread finished; awaiting finish of 1 more threads\n",
      "INFO - 15:30:45: worker thread finished; awaiting finish of 0 more threads\n",
      "INFO - 15:30:45: EPOCH - 18 : training on 601119 raw words (219174 effective words) took 0.9s, 239276 effective words/s\n",
      "INFO - 15:30:46: worker thread finished; awaiting finish of 6 more threads\n",
      "INFO - 15:30:46: worker thread finished; awaiting finish of 5 more threads\n",
      "INFO - 15:30:46: worker thread finished; awaiting finish of 4 more threads\n",
      "INFO - 15:30:46: worker thread finished; awaiting finish of 3 more threads\n",
      "INFO - 15:30:46: worker thread finished; awaiting finish of 2 more threads\n",
      "INFO - 15:30:46: worker thread finished; awaiting finish of 1 more threads\n",
      "INFO - 15:30:46: worker thread finished; awaiting finish of 0 more threads\n",
      "INFO - 15:30:46: EPOCH - 19 : training on 601119 raw words (219240 effective words) took 0.9s, 239432 effective words/s\n",
      "INFO - 15:30:47: EPOCH 20 - PROGRESS: at 88.44% examples, 191779 words/s, in_qsize 8, out_qsize 0\n",
      "INFO - 15:30:47: worker thread finished; awaiting finish of 6 more threads\n",
      "INFO - 15:30:47: worker thread finished; awaiting finish of 5 more threads\n",
      "INFO - 15:30:47: worker thread finished; awaiting finish of 4 more threads\n",
      "INFO - 15:30:47: worker thread finished; awaiting finish of 3 more threads\n",
      "INFO - 15:30:47: worker thread finished; awaiting finish of 2 more threads\n",
      "INFO - 15:30:47: worker thread finished; awaiting finish of 1 more threads\n",
      "INFO - 15:30:47: worker thread finished; awaiting finish of 0 more threads\n",
      "INFO - 15:30:47: EPOCH - 20 : training on 601119 raw words (218991 effective words) took 1.0s, 211714 effective words/s\n",
      "INFO - 15:30:48: worker thread finished; awaiting finish of 6 more threads\n",
      "INFO - 15:30:48: worker thread finished; awaiting finish of 5 more threads\n",
      "INFO - 15:30:48: worker thread finished; awaiting finish of 4 more threads\n",
      "INFO - 15:30:48: worker thread finished; awaiting finish of 3 more threads\n",
      "INFO - 15:30:48: worker thread finished; awaiting finish of 2 more threads\n",
      "INFO - 15:30:48: worker thread finished; awaiting finish of 1 more threads\n",
      "INFO - 15:30:48: worker thread finished; awaiting finish of 0 more threads\n",
      "INFO - 15:30:48: EPOCH - 21 : training on 601119 raw words (219286 effective words) took 0.9s, 234778 effective words/s\n",
      "INFO - 15:30:49: worker thread finished; awaiting finish of 6 more threads\n",
      "INFO - 15:30:49: worker thread finished; awaiting finish of 5 more threads\n",
      "INFO - 15:30:49: worker thread finished; awaiting finish of 4 more threads\n",
      "INFO - 15:30:49: EPOCH 22 - PROGRESS: at 95.25% examples, 208685 words/s, in_qsize 3, out_qsize 1\n",
      "INFO - 15:30:49: worker thread finished; awaiting finish of 3 more threads\n",
      "INFO - 15:30:49: worker thread finished; awaiting finish of 2 more threads\n",
      "INFO - 15:30:49: worker thread finished; awaiting finish of 1 more threads\n",
      "INFO - 15:30:49: worker thread finished; awaiting finish of 0 more threads\n",
      "INFO - 15:30:49: EPOCH - 22 : training on 601119 raw words (219578 effective words) took 1.0s, 216958 effective words/s\n",
      "INFO - 15:30:50: worker thread finished; awaiting finish of 6 more threads\n",
      "INFO - 15:30:50: worker thread finished; awaiting finish of 5 more threads\n",
      "INFO - 15:30:50: worker thread finished; awaiting finish of 4 more threads\n",
      "INFO - 15:30:50: worker thread finished; awaiting finish of 3 more threads\n",
      "INFO - 15:30:50: worker thread finished; awaiting finish of 2 more threads\n",
      "INFO - 15:30:50: worker thread finished; awaiting finish of 1 more threads\n",
      "INFO - 15:30:50: worker thread finished; awaiting finish of 0 more threads\n",
      "INFO - 15:30:50: EPOCH - 23 : training on 601119 raw words (219638 effective words) took 0.9s, 243177 effective words/s\n",
      "INFO - 15:30:51: worker thread finished; awaiting finish of 6 more threads\n",
      "INFO - 15:30:51: worker thread finished; awaiting finish of 5 more threads\n",
      "INFO - 15:30:51: worker thread finished; awaiting finish of 4 more threads\n",
      "INFO - 15:30:51: worker thread finished; awaiting finish of 3 more threads\n",
      "INFO - 15:30:51: worker thread finished; awaiting finish of 2 more threads\n",
      "INFO - 15:30:51: worker thread finished; awaiting finish of 1 more threads\n",
      "INFO - 15:30:51: worker thread finished; awaiting finish of 0 more threads\n"
     ]
    },
    {
     "name": "stderr",
     "output_type": "stream",
     "text": [
      "INFO - 15:30:51: EPOCH - 24 : training on 601119 raw words (219052 effective words) took 0.9s, 243277 effective words/s\n",
      "INFO - 15:30:52: worker thread finished; awaiting finish of 6 more threads\n",
      "INFO - 15:30:52: worker thread finished; awaiting finish of 5 more threads\n",
      "INFO - 15:30:52: worker thread finished; awaiting finish of 4 more threads\n",
      "INFO - 15:30:52: worker thread finished; awaiting finish of 3 more threads\n",
      "INFO - 15:30:52: worker thread finished; awaiting finish of 2 more threads\n",
      "INFO - 15:30:52: worker thread finished; awaiting finish of 1 more threads\n",
      "INFO - 15:30:52: worker thread finished; awaiting finish of 0 more threads\n",
      "INFO - 15:30:52: EPOCH - 25 : training on 601119 raw words (219575 effective words) took 1.0s, 226625 effective words/s\n",
      "INFO - 15:30:53: worker thread finished; awaiting finish of 6 more threads\n",
      "INFO - 15:30:53: worker thread finished; awaiting finish of 5 more threads\n",
      "INFO - 15:30:53: worker thread finished; awaiting finish of 4 more threads\n",
      "INFO - 15:30:53: worker thread finished; awaiting finish of 3 more threads\n",
      "INFO - 15:30:53: worker thread finished; awaiting finish of 2 more threads\n",
      "INFO - 15:30:53: worker thread finished; awaiting finish of 1 more threads\n",
      "INFO - 15:30:53: worker thread finished; awaiting finish of 0 more threads\n",
      "INFO - 15:30:53: EPOCH - 26 : training on 601119 raw words (219426 effective words) took 0.9s, 233901 effective words/s\n",
      "INFO - 15:30:54: worker thread finished; awaiting finish of 6 more threads\n",
      "INFO - 15:30:54: worker thread finished; awaiting finish of 5 more threads\n",
      "INFO - 15:30:54: worker thread finished; awaiting finish of 4 more threads\n",
      "INFO - 15:30:54: worker thread finished; awaiting finish of 3 more threads\n",
      "INFO - 15:30:54: worker thread finished; awaiting finish of 2 more threads\n",
      "INFO - 15:30:54: worker thread finished; awaiting finish of 1 more threads\n",
      "INFO - 15:30:54: worker thread finished; awaiting finish of 0 more threads\n",
      "INFO - 15:30:54: EPOCH - 27 : training on 601119 raw words (219566 effective words) took 1.0s, 231018 effective words/s\n",
      "INFO - 15:30:55: worker thread finished; awaiting finish of 6 more threads\n",
      "INFO - 15:30:55: worker thread finished; awaiting finish of 5 more threads\n",
      "INFO - 15:30:55: worker thread finished; awaiting finish of 4 more threads\n",
      "INFO - 15:30:55: worker thread finished; awaiting finish of 3 more threads\n",
      "INFO - 15:30:55: worker thread finished; awaiting finish of 2 more threads\n",
      "INFO - 15:30:55: worker thread finished; awaiting finish of 1 more threads\n",
      "INFO - 15:30:55: worker thread finished; awaiting finish of 0 more threads\n",
      "INFO - 15:30:55: EPOCH - 28 : training on 601119 raw words (219388 effective words) took 1.0s, 221247 effective words/s\n",
      "INFO - 15:30:55: worker thread finished; awaiting finish of 6 more threads\n",
      "INFO - 15:30:56: worker thread finished; awaiting finish of 5 more threads\n",
      "INFO - 15:30:56: worker thread finished; awaiting finish of 4 more threads\n",
      "INFO - 15:30:56: worker thread finished; awaiting finish of 3 more threads\n",
      "INFO - 15:30:56: worker thread finished; awaiting finish of 2 more threads\n",
      "INFO - 15:30:56: worker thread finished; awaiting finish of 1 more threads\n",
      "INFO - 15:30:56: worker thread finished; awaiting finish of 0 more threads\n",
      "INFO - 15:30:56: EPOCH - 29 : training on 601119 raw words (220099 effective words) took 0.9s, 242396 effective words/s\n",
      "INFO - 15:30:56: worker thread finished; awaiting finish of 6 more threads\n",
      "INFO - 15:30:56: worker thread finished; awaiting finish of 5 more threads\n",
      "INFO - 15:30:56: worker thread finished; awaiting finish of 4 more threads\n",
      "INFO - 15:30:56: worker thread finished; awaiting finish of 3 more threads\n",
      "INFO - 15:30:56: worker thread finished; awaiting finish of 2 more threads\n",
      "INFO - 15:30:56: worker thread finished; awaiting finish of 1 more threads\n",
      "INFO - 15:30:56: worker thread finished; awaiting finish of 0 more threads\n",
      "INFO - 15:30:56: EPOCH - 30 : training on 601119 raw words (219805 effective words) took 0.8s, 269090 effective words/s\n",
      "INFO - 15:30:56: Word2Vec lifecycle event {'msg': 'training on 18033570 raw words (6578972 effective words) took 28.8s, 228777 effective words/s', 'datetime': '2021-06-20T15:30:56.902310', 'gensim': '4.0.1', 'python': '3.7.4 (default, Aug  9 2019, 18:34:13) [MSC v.1915 64 bit (AMD64)]', 'platform': 'Windows-10-10.0.19041-SP0', 'event': 'train'}\n"
     ]
    },
    {
     "name": "stdout",
     "output_type": "stream",
     "text": [
      "Time to train the model: 0.48 mins\n"
     ]
    }
   ],
   "source": [
    "t = time()\n",
    "\n",
    "w2v_model.train(sentences, total_examples=w2v_model.corpus_count, epochs=30, report_delay=1)\n",
    "\n",
    "print('Time to train the model: {} mins'.format(round((time() - t) / 60, 2)))"
   ]
  },
  {
   "cell_type": "code",
   "execution_count": 23,
   "metadata": {},
   "outputs": [
    {
     "data": {
      "text/plain": [
       "[('marge', 0.6660357713699341),\n",
       " ('depressed', 0.6204881072044373),\n",
       " ('becky', 0.5985729694366455),\n",
       " (\"tryin_'\", 0.5985531210899353),\n",
       " ('hammock', 0.5911051034927368),\n",
       " ('adopt', 0.588822603225708),\n",
       " ('snuggle', 0.5874436497688293),\n",
       " ('herb', 0.5802744030952454),\n",
       " ('abe', 0.5778324604034424),\n",
       " ('embarrassing', 0.5742378830909729)]"
      ]
     },
     "execution_count": 23,
     "metadata": {},
     "output_type": "execute_result"
    }
   ],
   "source": [
    "w2v_model.wv.most_similar(positive=[\"homer\"])"
   ]
  },
  {
   "cell_type": "code",
   "execution_count": 24,
   "metadata": {},
   "outputs": [
    {
     "data": {
      "text/plain": [
       "[('client', 0.6393007636070251),\n",
       " ('pleased', 0.6366333365440369),\n",
       " ('recent', 0.6263326406478882),\n",
       " ('montgomery_burn', 0.6017772555351257),\n",
       " ('appearance', 0.595643937587738),\n",
       " ('kidnap', 0.5955327749252319),\n",
       " ('display', 0.5947876572608948),\n",
       " ('governor', 0.5875977873802185),\n",
       " ('versus', 0.5872914791107178),\n",
       " ('select', 0.5824985504150391)]"
      ]
     },
     "execution_count": 24,
     "metadata": {},
     "output_type": "execute_result"
    }
   ],
   "source": [
    "w2v_model.wv.most_similar(positive=[\"homer_simpson\"])"
   ]
  },
  {
   "cell_type": "code",
   "execution_count": 25,
   "metadata": {},
   "outputs": [
    {
     "data": {
      "text/plain": [
       "[('homer', 0.6660358309745789),\n",
       " ('becky', 0.6511843204498291),\n",
       " ('grownup', 0.6235828399658203),\n",
       " ('raccoon', 0.6170586943626404),\n",
       " ('homie', 0.6127768158912659),\n",
       " ('depressed', 0.6046934127807617),\n",
       " ('embarrassing', 0.6006236672401428),\n",
       " ('anyhoo', 0.5934889912605286),\n",
       " ('badly', 0.5927162766456604),\n",
       " ('attract', 0.591194748878479)]"
      ]
     },
     "execution_count": 25,
     "metadata": {},
     "output_type": "execute_result"
    }
   ],
   "source": [
    "w2v_model.wv.most_similar(positive=[\"marge\"])"
   ]
  },
  {
   "cell_type": "code",
   "execution_count": 26,
   "metadata": {},
   "outputs": [
    {
     "data": {
      "text/plain": [
       "[('pathetic', 0.5720959901809692),\n",
       " ('jewish', 0.5588107705116272),\n",
       " ('reference', 0.49125516414642334),\n",
       " ('college', 0.4842357039451599),\n",
       " ('tragic', 0.4705577790737152),\n",
       " ('world', 0.46986788511276245),\n",
       " ('responsibility', 0.45987263321876526),\n",
       " ('adventure', 0.45812374353408813),\n",
       " ('legend', 0.449354350566864),\n",
       " ('hee', 0.44756823778152466)]"
      ]
     },
     "execution_count": 26,
     "metadata": {},
     "output_type": "execute_result"
    }
   ],
   "source": [
    "w2v_model.wv.most_similar(positive=[\"clown\"])"
   ]
  },
  {
   "cell_type": "code",
   "execution_count": 27,
   "metadata": {},
   "outputs": [
    {
     "data": {
      "text/plain": [
       "[('lisa', 0.7631731033325195),\n",
       " ('mom_dad', 0.6726722121238708),\n",
       " ('ralphie', 0.6695364117622375),\n",
       " ('substitute', 0.6558251976966858),\n",
       " ('dr_hibbert', 0.6523398160934448),\n",
       " ('mom', 0.6504871249198914),\n",
       " ('hearing', 0.6435617804527283),\n",
       " ('homework', 0.6316744089126587),\n",
       " ('maggie', 0.6309219002723694),\n",
       " ('janey', 0.6305357217788696)]"
      ]
     },
     "execution_count": 27,
     "metadata": {},
     "output_type": "execute_result"
    }
   ],
   "source": [
    "w2v_model.wv.most_similar(positive=[\"bart\"])"
   ]
  },
  {
   "cell_type": "code",
   "execution_count": 28,
   "metadata": {},
   "outputs": [
    {
     "data": {
      "text/plain": [
       "[('ashamed', 0.5797131061553955),\n",
       " ('opposite', 0.5697283148765564),\n",
       " ('god_bless', 0.5680715441703796),\n",
       " ('bitter', 0.5636813044548035),\n",
       " ('noble', 0.5542813539505005),\n",
       " ('relationship', 0.552810788154602),\n",
       " ('wonderful', 0.5508057475090027),\n",
       " ('awww', 0.5503503680229187),\n",
       " ('ireland', 0.549735426902771),\n",
       " ('dictionary', 0.549280047416687)]"
      ]
     },
     "execution_count": 28,
     "metadata": {},
     "output_type": "execute_result"
    }
   ],
   "source": [
    "w2v_model.wv.most_similar(positive=[\"love\"])"
   ]
  },
  {
   "cell_type": "code",
   "execution_count": 29,
   "metadata": {},
   "outputs": [
    {
     "data": {
      "text/plain": [
       "[('bald', 0.6194189786911011),\n",
       " ('selfish', 0.5968685150146484),\n",
       " ('moron', 0.588007390499115),\n",
       " ('becky', 0.5591166615486145),\n",
       " ('insult', 0.5556935667991638),\n",
       " ('creepy', 0.5550668835639954),\n",
       " ('duh', 0.5515678524971008),\n",
       " ('obvious', 0.5451082587242126),\n",
       " ('script', 0.5451017022132874),\n",
       " ('nervous', 0.5397663712501526)]"
      ]
     },
     "execution_count": 29,
     "metadata": {},
     "output_type": "execute_result"
    }
   ],
   "source": [
    "w2v_model.wv.most_similar(positive=[\"dumb\"])"
   ]
  },
  {
   "cell_type": "code",
   "execution_count": 30,
   "metadata": {},
   "outputs": [
    {
     "data": {
      "text/plain": [
       "[('jeez', 0.7250043749809265),\n",
       " ('puppet', 0.693875789642334),\n",
       " ('gotcha', 0.6916921734809875),\n",
       " ('hopeless', 0.6852737069129944),\n",
       " ('gee', 0.6830611228942871),\n",
       " ('bongo', 0.6741742491722107),\n",
       " ('umm', 0.6724241971969604),\n",
       " ('dunno', 0.6699246168136597),\n",
       " ('backup', 0.6594211459159851),\n",
       " ('creepy', 0.6543980836868286)]"
      ]
     },
     "execution_count": 30,
     "metadata": {},
     "output_type": "execute_result"
    }
   ],
   "source": [
    "w2v_model.wv.most_similar(positive=[\"duh\"])"
   ]
  },
  {
   "cell_type": "code",
   "execution_count": 31,
   "metadata": {},
   "outputs": [
    {
     "data": {
      "text/plain": [
       "[('groundskeeper', 0.899416983127594),\n",
       " ('puke', 0.5647397041320801),\n",
       " ('aye', 0.4818291962146759),\n",
       " ('ach', 0.47970080375671387),\n",
       " ('mop', 0.46713370084762573),\n",
       " ('fence', 0.4642358124256134),\n",
       " ('proper', 0.46160411834716797),\n",
       " ('lounge', 0.4556407332420349),\n",
       " ('field', 0.45374414324760437),\n",
       " ('disappear', 0.45183536410331726)]"
      ]
     },
     "execution_count": 31,
     "metadata": {},
     "output_type": "execute_result"
    }
   ],
   "source": [
    "w2v_model.wv.most_similar(positive=[\"willie\"])"
   ]
  },
  {
   "cell_type": "code",
   "execution_count": 32,
   "metadata": {},
   "outputs": [
    {
     "data": {
      "text/plain": [
       "[('rest_life', 0.7814347147941589),\n",
       " ('juliet', 0.6748186945915222),\n",
       " ('adopt', 0.6569067239761353),\n",
       " ('ghost', 0.6564218401908875),\n",
       " ('anyhoo', 0.6468220353126526),\n",
       " ('snuggle', 0.6220044493675232),\n",
       " ('awake', 0.6199387907981873),\n",
       " ('sweetheart', 0.619727373123169),\n",
       " ('embarrassing', 0.618976354598999),\n",
       " ('someplace', 0.6156415343284607)]"
      ]
     },
     "execution_count": 32,
     "metadata": {},
     "output_type": "execute_result"
    }
   ],
   "source": [
    "w2v_model.wv.most_similar(positive=[\"haunt\"])"
   ]
  },
  {
   "cell_type": "code",
   "execution_count": 33,
   "metadata": {},
   "outputs": [
    {
     "data": {
      "text/plain": [
       "[('steve', 0.7940543293952942),\n",
       " (\"talkin_'\", 0.6157407164573669),\n",
       " ('jerry', 0.6136488914489746),\n",
       " ('beatle', 0.6064109206199646),\n",
       " ('lewi', 0.6053235530853271),\n",
       " ('imaginary', 0.6004195213317871),\n",
       " ('etc', 0.5662745237350464),\n",
       " ('player', 0.5653820633888245),\n",
       " ('backup', 0.5648350715637207),\n",
       " ('manager', 0.5644633173942566)]"
      ]
     },
     "execution_count": 33,
     "metadata": {},
     "output_type": "execute_result"
    }
   ],
   "source": [
    "w2v_model.wv.most_similar(positive=[\"sax\"])"
   ]
  },
  {
   "cell_type": "code",
   "execution_count": 34,
   "metadata": {},
   "outputs": [
    {
     "data": {
      "text/plain": [
       "[('popular', 0.5719140768051147),\n",
       " ('poetry', 0.5419637560844421),\n",
       " ('band', 0.5373952388763428),\n",
       " ('jazz', 0.5351808667182922),\n",
       " ('rock', 0.5339167714118958),\n",
       " ('beatle', 0.5225553512573242),\n",
       " ('art', 0.5167068243026733),\n",
       " ('festival', 0.5146817564964294),\n",
       " ('poster', 0.5117003917694092),\n",
       " ('singer', 0.5084192156791687)]"
      ]
     },
     "execution_count": 34,
     "metadata": {},
     "output_type": "execute_result"
    }
   ],
   "source": [
    "w2v_model.wv.most_similar(positive=[\"music\"])"
   ]
  },
  {
   "cell_type": "code",
   "execution_count": 35,
   "metadata": {},
   "outputs": [
    {
     "data": {
      "text/plain": [
       "0.8951387"
      ]
     },
     "execution_count": 35,
     "metadata": {},
     "output_type": "execute_result"
    }
   ],
   "source": [
    "w2v_model.wv.similarity(\"moe_'s\", 'tavern')"
   ]
  },
  {
   "cell_type": "code",
   "execution_count": 36,
   "metadata": {},
   "outputs": [
    {
     "name": "stdout",
     "output_type": "stream",
     "text": [
      "w2v_model.wv.similarity(lisa, maggie) = 0.6507840752601624\n",
      "w2v_model.wv.similarity(lisa, marge) = 0.4713343381881714\n",
      "w2v_model.wv.similarity(lisa, bart) = 0.7631731033325195\n",
      "w2v_model.wv.similarity(lisa, homer) = 0.3566074073314667\n",
      "w2v_model.wv.similarity(maggie, lisa) = 0.6507840752601624\n",
      "w2v_model.wv.similarity(maggie, marge) = 0.38483768701553345\n",
      "w2v_model.wv.similarity(maggie, bart) = 0.6309219598770142\n",
      "w2v_model.wv.similarity(maggie, homer) = 0.3585813045501709\n",
      "w2v_model.wv.similarity(marge, lisa) = 0.4713343381881714\n",
      "w2v_model.wv.similarity(marge, maggie) = 0.38483768701553345\n",
      "w2v_model.wv.similarity(marge, bart) = 0.4858154058456421\n",
      "w2v_model.wv.similarity(marge, homer) = 0.6660358309745789\n",
      "w2v_model.wv.similarity(bart, lisa) = 0.7631731033325195\n",
      "w2v_model.wv.similarity(bart, maggie) = 0.6309219598770142\n",
      "w2v_model.wv.similarity(bart, marge) = 0.4858154058456421\n",
      "w2v_model.wv.similarity(bart, homer) = 0.46574634313583374\n",
      "w2v_model.wv.similarity(homer, lisa) = 0.3566074073314667\n",
      "w2v_model.wv.similarity(homer, maggie) = 0.3585813045501709\n",
      "w2v_model.wv.similarity(homer, marge) = 0.6660358309745789\n",
      "w2v_model.wv.similarity(homer, bart) = 0.46574634313583374\n"
     ]
    }
   ],
   "source": [
    "character_list = ['lisa', 'maggie', 'marge', 'bart', 'homer']\n",
    "for char1 in character_list:\n",
    "    for char2 in character_list:\n",
    "        if char1 != char2:\n",
    "            print(f'w2v_model.wv.similarity({char1}, {char2}) = {w2v_model.wv.similarity(char1, char2)}')"
   ]
  },
  {
   "cell_type": "code",
   "execution_count": 37,
   "metadata": {},
   "outputs": [
    {
     "data": {
      "text/plain": [
       "0.64195144"
      ]
     },
     "execution_count": 37,
     "metadata": {},
     "output_type": "execute_result"
    }
   ],
   "source": [
    "w2v_model.wv.similarity('maggie', 'baby')"
   ]
  },
  {
   "cell_type": "code",
   "execution_count": 38,
   "metadata": {},
   "outputs": [
    {
     "data": {
      "text/plain": [
       "0.47601068"
      ]
     },
     "execution_count": 38,
     "metadata": {},
     "output_type": "execute_result"
    }
   ],
   "source": [
    "w2v_model.wv.similarity('maggie', 'boy')"
   ]
  },
  {
   "cell_type": "code",
   "execution_count": 39,
   "metadata": {},
   "outputs": [
    {
     "data": {
      "text/plain": [
       "0.3199433"
      ]
     },
     "execution_count": 39,
     "metadata": {},
     "output_type": "execute_result"
    }
   ],
   "source": [
    "w2v_model.wv.similarity('maggie', 'girl')"
   ]
  },
  {
   "cell_type": "code",
   "execution_count": 40,
   "metadata": {},
   "outputs": [
    {
     "name": "stdout",
     "output_type": "stream",
     "text": [
      "lisa 0.45351204\n",
      "maggie 0.35660183\n",
      "marge 0.25462943\n",
      "bart 0.45706153\n",
      "homer 0.24636379\n"
     ]
    }
   ],
   "source": [
    "for char in character_list:\n",
    "    print(char, w2v_model.wv.similarity(char, 'child'))"
   ]
  },
  {
   "cell_type": "code",
   "execution_count": 41,
   "metadata": {},
   "outputs": [
    {
     "name": "stdout",
     "output_type": "stream",
     "text": [
      "lisa 0.30860278\n",
      "maggie 0.64195144\n",
      "marge 0.32526255\n",
      "bart 0.2976489\n",
      "homer 0.2858795\n"
     ]
    }
   ],
   "source": [
    "for char in character_list:\n",
    "    print(char, w2v_model.wv.similarity(char, 'baby'))"
   ]
  },
  {
   "cell_type": "code",
   "execution_count": 42,
   "metadata": {},
   "outputs": [
    {
     "data": {
      "text/plain": [
       "0.492817"
      ]
     },
     "execution_count": 42,
     "metadata": {},
     "output_type": "execute_result"
    }
   ],
   "source": [
    "w2v_model.wv.similarity('bart', 'nelson')"
   ]
  },
  {
   "cell_type": "code",
   "execution_count": 43,
   "metadata": {},
   "outputs": [
    {
     "data": {
      "text/plain": [
       "'homer'"
      ]
     },
     "execution_count": 43,
     "metadata": {},
     "output_type": "execute_result"
    }
   ],
   "source": [
    "w2v_model.wv.doesnt_match(['lisa', 'bart', 'homer'])"
   ]
  },
  {
   "cell_type": "code",
   "execution_count": 44,
   "metadata": {},
   "outputs": [
    {
     "data": {
      "text/plain": [
       "'bart'"
      ]
     },
     "execution_count": 44,
     "metadata": {},
     "output_type": "execute_result"
    }
   ],
   "source": [
    "w2v_model.wv.doesnt_match(['marge', 'bart', 'homer'])"
   ]
  },
  {
   "cell_type": "code",
   "execution_count": 45,
   "metadata": {},
   "outputs": [
    {
     "data": {
      "text/plain": [
       "'homer'"
      ]
     },
     "execution_count": 45,
     "metadata": {},
     "output_type": "execute_result"
    }
   ],
   "source": [
    "w2v_model.wv.doesnt_match(['homer', 'patty', 'selma'])"
   ]
  },
  {
   "cell_type": "code",
   "execution_count": 46,
   "metadata": {},
   "outputs": [
    {
     "data": {
      "text/plain": [
       "'homer'"
      ]
     },
     "execution_count": 46,
     "metadata": {},
     "output_type": "execute_result"
    }
   ],
   "source": [
    "w2v_model.wv.doesnt_match(['homer', 'dumb', 'smart'])"
   ]
  },
  {
   "cell_type": "code",
   "execution_count": 47,
   "metadata": {},
   "outputs": [
    {
     "data": {
      "text/plain": [
       "'donut'"
      ]
     },
     "execution_count": 47,
     "metadata": {},
     "output_type": "execute_result"
    }
   ],
   "source": [
    "w2v_model.wv.doesnt_match(['homer', 'donut', 'duh'])"
   ]
  },
  {
   "cell_type": "code",
   "execution_count": 48,
   "metadata": {},
   "outputs": [
    {
     "data": {
      "text/plain": [
       "[('dancer', 0.5069513320922852),\n",
       " ('wife', 0.4780435264110565),\n",
       " ('admire', 0.4706101417541504)]"
      ]
     },
     "execution_count": 48,
     "metadata": {},
     "output_type": "execute_result"
    }
   ],
   "source": [
    "# Analogies\n",
    "w2v_model.wv.most_similar(positive=[\"woman\", \"homer\"], negative=[\"marge\"], topn=3)"
   ]
  },
  {
   "cell_type": "code",
   "execution_count": 49,
   "metadata": {},
   "outputs": [
    {
     "data": {
      "text/plain": [
       "[('lisa', 0.6558153629302979),\n",
       " ('pregnant', 0.5728266835212708),\n",
       " ('dr_hibbert', 0.5695217251777649)]"
      ]
     },
     "execution_count": 49,
     "metadata": {},
     "output_type": "execute_result"
    }
   ],
   "source": [
    "w2v_model.wv.most_similar(positive=[\"woman\", \"bart\"], negative=[\"man\"], topn=3)"
   ]
  },
  {
   "cell_type": "code",
   "execution_count": 55,
   "metadata": {},
   "outputs": [],
   "source": [
    "# Start with t-SNE visualizations\n",
    "# https://www.kaggle.com/pierremegret/gensim-word2vec-tutorial/notebook?scriptVersionId=6660075&cellId=75\n",
    "# Here we will explore PCA.\n",
    "\n",
    "import numpy as np\n",
    "import matplotlib.pyplot as plt\n",
    "%matplotlib inline\n",
    " \n",
    "import seaborn as sns\n",
    "sns.set_style(\"darkgrid\")\n",
    "\n",
    "from sklearn.decomposition import PCA\n",
    "from sklearn.manifold import TSNE"
   ]
  },
  {
   "cell_type": "code",
   "execution_count": 75,
   "metadata": {},
   "outputs": [],
   "source": [
    "# Code inspired by:\n",
    "# https://aneesha.medium.com/using-tsne-to-plot-a-subset-of-similar-words-from-word2vec-bb8eeaea6229\n",
    "\n",
    "def tsnescatterplot(model, word, list_names):\n",
    "    \"\"\" Plot in seaborn the results from the t-SNE dimensionality reduction algorithm of the vectors of a query word,\n",
    "    its list of most similar words, and a list of words.\n",
    "    \"\"\"\n",
    "\n",
    "    arrays = np.empty((0, 300), dtype='f')\n",
    "    word_labels = [word]\n",
    "    color_list  = ['red']\n",
    "\n",
    "    # adds the vector of the query word\n",
    "    arrays = np.append(arrays, model.wv.__getitem__([word]), axis=0)\n",
    "    \n",
    "    # gets list of most similar words\n",
    "    close_words = model.wv.most_similar([word])\n",
    "    \n",
    "    \n",
    "    # adds the vector for each of the closest words to the array\n",
    "    for wrd_score in close_words:\n",
    "        wrd_vector = model.wv.__getitem__([wrd_score[0]])\n",
    "        word_labels.append(wrd_score[0])\n",
    "        color_list.append('blue')\n",
    "        arrays = np.append(arrays, wrd_vector, axis=0)\n",
    "    \n",
    "    # adds the vector for each of the words from list_names to the array\n",
    "    for wrd in list_names:\n",
    "        wrd_vector = model.wv.__getitem__([wrd])\n",
    "        word_labels.append(wrd)\n",
    "        color_list.append('green')\n",
    "        arrays = np.append(arrays, wrd_vector, axis=0)\n",
    "        \n",
    "    # Reduces the dimensionality from 300 to 50 dimensions with PCA\n",
    "    reduc = PCA(n_components=19).fit_transform(arrays)\n",
    "    \n",
    "    # Finds t-SNE coordinates for 2 dimensions\n",
    "    np.set_printoptions(suppress=True)\n",
    "    \n",
    "    Y = TSNE(n_components=2, random_state=0, perplexity=15).fit_transform(reduc)\n",
    "    \n",
    "    # Sets everything up to plot\n",
    "    df = pd.DataFrame({'x': [x for x in Y[:, 0]],\n",
    "                       'y': [y for y in Y[:, 1]],\n",
    "                       'words': word_labels,\n",
    "                       'color': color_list})\n",
    "    \n",
    "    fig, _ = plt.subplots()\n",
    "    fig.set_size_inches(9, 9)\n",
    "    \n",
    "    # Basic plot\n",
    "    p1 = sns.regplot(data=df,\n",
    "                     x=\"x\",\n",
    "                     y=\"y\",\n",
    "                     fit_reg=False,\n",
    "                     marker=\"o\",\n",
    "                     scatter_kws={'s': 40,\n",
    "                                  'facecolors': df['color']\n",
    "                                 }\n",
    "                    )\n",
    "\n",
    "    \n",
    "    # Adds annotations one by one with a loop\n",
    "    for line in range(0, df.shape[0]):\n",
    "         p1.text(df[\"x\"][line],\n",
    "                 df['y'][line],\n",
    "                 '  ' + df[\"words\"][line].title(),\n",
    "                 horizontalalignment='left',\n",
    "                 verticalalignment='bottom', size='medium',\n",
    "                 color=df['color'][line],\n",
    "                 weight='normal'\n",
    "                ).set_size(15)\n",
    "\n",
    "    \n",
    "    plt.xlim(Y[:, 0].min()-50, Y[:, 0].max()+50)\n",
    "    plt.ylim(Y[:, 1].min()-50, Y[:, 1].max()+50)\n",
    "            \n",
    "    plt.title('t-SNE visualization for {}'.format(word.title()))\n",
    "    "
   ]
  },
  {
   "cell_type": "code",
   "execution_count": 71,
   "metadata": {},
   "outputs": [
    {
     "data": {
      "image/png": "[encoded data removed]",
      "text/plain": [
       "<Figure size 648x648 with 1 Axes>"
      ]
     },
     "metadata": {},
     "output_type": "display_data"
    }
   ],
   "source": [
    "tsnescatterplot(w2v_model, 'homer', ['dog', 'bird', 'ah', 'maude', 'bob', 'mel', 'apu', 'duff'])"
   ]
  },
  {
   "cell_type": "code",
   "execution_count": 86,
   "metadata": {},
   "outputs": [
    {
     "data": {
      "image/png": "[encoded data removed]",
      "text/plain": [
       "<Figure size 648x648 with 1 Axes>"
      ]
     },
     "metadata": {},
     "output_type": "display_data"
    }
   ],
   "source": [
    "tsnescatterplot(w2v_model, 'homer', ['lisa','bart', 'boy','man', 'woman', 'dad', 'husband', 'wife', 'mom', 'girl'])\n"
   ]
  },
  {
   "cell_type": "code",
   "execution_count": 72,
   "metadata": {},
   "outputs": [
    {
     "data": {
      "image/png": "[encoded data removed]",
      "text/plain": [
       "<Figure size 648x648 with 1 Axes>"
      ]
     },
     "metadata": {},
     "output_type": "display_data"
    }
   ],
   "source": [
    "tsnescatterplot(w2v_model, 'maggie', [i[0] for i in w2v_model.wv.most_similar(negative=[\"maggie\"])])"
   ]
  },
  {
   "cell_type": "code",
   "execution_count": 73,
   "metadata": {},
   "outputs": [
    {
     "data": {
      "image/png": "[encoded data removed]",
      "text/plain": [
       "<Figure size 648x648 with 1 Axes>"
      ]
     },
     "metadata": {},
     "output_type": "display_data"
    }
   ],
   "source": [
    "tsnescatterplot(w2v_model, \"mr_burn\", [t[0] for t in w2v_model.wv.most_similar(positive=[\"mr_burn\"], topn=20)][10:])"
   ]
  },
  {
   "cell_type": "code",
   "execution_count": null,
   "metadata": {},
   "outputs": [],
   "source": []
  }
 ],
 "metadata": {
  "kernelspec": {
   "display_name": "Python 3",
   "language": "python",
   "name": "python3"
  },
  "language_info": {
   "codemirror_mode": {
    "name": "ipython",
    "version": 3
   },
   "file_extension": ".py",
   "mimetype": "text/x-python",
   "name": "python",
   "nbconvert_exporter": "python",
   "pygments_lexer": "ipython3",
   "version": "3.7.4"
  }
 },
 "nbformat": 4,
 "nbformat_minor": 2
}
